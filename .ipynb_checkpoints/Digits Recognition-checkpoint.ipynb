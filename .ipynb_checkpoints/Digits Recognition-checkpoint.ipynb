{
 "cells": [
  {
   "cell_type": "code",
   "execution_count": 2,
   "metadata": {
    "_cell_guid": "b1076dfc-b9ad-4769-8c92-a6c4dae69d19",
    "_uuid": "8f2839f25d086af736a60e9eeb907d3b93b6e0e5"
   },
   "outputs": [],
   "source": [
    "import numpy as np # linear algebra\n",
    "import pandas as pd # data processing, CSV file I/O (e.g. pd.read_csv)"
   ]
  },
  {
   "cell_type": "code",
   "execution_count": 3,
   "metadata": {
    "_cell_guid": "79c7e3d0-c299-4dcb-8224-4455121ee9b0",
    "_uuid": "d629ff2d2480ee46fbb7e2d37f6b5fab8052498a"
   },
   "outputs": [
    {
     "name": "stderr",
     "output_type": "stream",
     "text": [
      "Using TensorFlow backend.\n",
      "/opt/anaconda3/lib/python3.7/site-packages/tensorflow/python/framework/dtypes.py:516: FutureWarning: Passing (type, 1) or '1type' as a synonym of type is deprecated; in a future version of numpy, it will be understood as (type, (1,)) / '(1,)type'.\n",
      "  _np_qint8 = np.dtype([(\"qint8\", np.int8, 1)])\n",
      "/opt/anaconda3/lib/python3.7/site-packages/tensorflow/python/framework/dtypes.py:517: FutureWarning: Passing (type, 1) or '1type' as a synonym of type is deprecated; in a future version of numpy, it will be understood as (type, (1,)) / '(1,)type'.\n",
      "  _np_quint8 = np.dtype([(\"quint8\", np.uint8, 1)])\n",
      "/opt/anaconda3/lib/python3.7/site-packages/tensorflow/python/framework/dtypes.py:518: FutureWarning: Passing (type, 1) or '1type' as a synonym of type is deprecated; in a future version of numpy, it will be understood as (type, (1,)) / '(1,)type'.\n",
      "  _np_qint16 = np.dtype([(\"qint16\", np.int16, 1)])\n",
      "/opt/anaconda3/lib/python3.7/site-packages/tensorflow/python/framework/dtypes.py:519: FutureWarning: Passing (type, 1) or '1type' as a synonym of type is deprecated; in a future version of numpy, it will be understood as (type, (1,)) / '(1,)type'.\n",
      "  _np_quint16 = np.dtype([(\"quint16\", np.uint16, 1)])\n",
      "/opt/anaconda3/lib/python3.7/site-packages/tensorflow/python/framework/dtypes.py:520: FutureWarning: Passing (type, 1) or '1type' as a synonym of type is deprecated; in a future version of numpy, it will be understood as (type, (1,)) / '(1,)type'.\n",
      "  _np_qint32 = np.dtype([(\"qint32\", np.int32, 1)])\n",
      "/opt/anaconda3/lib/python3.7/site-packages/tensorflow/python/framework/dtypes.py:525: FutureWarning: Passing (type, 1) or '1type' as a synonym of type is deprecated; in a future version of numpy, it will be understood as (type, (1,)) / '(1,)type'.\n",
      "  np_resource = np.dtype([(\"resource\", np.ubyte, 1)])\n",
      "/opt/anaconda3/lib/python3.7/site-packages/tensorboard/compat/tensorflow_stub/dtypes.py:541: FutureWarning: Passing (type, 1) or '1type' as a synonym of type is deprecated; in a future version of numpy, it will be understood as (type, (1,)) / '(1,)type'.\n",
      "  _np_qint8 = np.dtype([(\"qint8\", np.int8, 1)])\n",
      "/opt/anaconda3/lib/python3.7/site-packages/tensorboard/compat/tensorflow_stub/dtypes.py:542: FutureWarning: Passing (type, 1) or '1type' as a synonym of type is deprecated; in a future version of numpy, it will be understood as (type, (1,)) / '(1,)type'.\n",
      "  _np_quint8 = np.dtype([(\"quint8\", np.uint8, 1)])\n",
      "/opt/anaconda3/lib/python3.7/site-packages/tensorboard/compat/tensorflow_stub/dtypes.py:543: FutureWarning: Passing (type, 1) or '1type' as a synonym of type is deprecated; in a future version of numpy, it will be understood as (type, (1,)) / '(1,)type'.\n",
      "  _np_qint16 = np.dtype([(\"qint16\", np.int16, 1)])\n",
      "/opt/anaconda3/lib/python3.7/site-packages/tensorboard/compat/tensorflow_stub/dtypes.py:544: FutureWarning: Passing (type, 1) or '1type' as a synonym of type is deprecated; in a future version of numpy, it will be understood as (type, (1,)) / '(1,)type'.\n",
      "  _np_quint16 = np.dtype([(\"quint16\", np.uint16, 1)])\n",
      "/opt/anaconda3/lib/python3.7/site-packages/tensorboard/compat/tensorflow_stub/dtypes.py:545: FutureWarning: Passing (type, 1) or '1type' as a synonym of type is deprecated; in a future version of numpy, it will be understood as (type, (1,)) / '(1,)type'.\n",
      "  _np_qint32 = np.dtype([(\"qint32\", np.int32, 1)])\n",
      "/opt/anaconda3/lib/python3.7/site-packages/tensorboard/compat/tensorflow_stub/dtypes.py:550: FutureWarning: Passing (type, 1) or '1type' as a synonym of type is deprecated; in a future version of numpy, it will be understood as (type, (1,)) / '(1,)type'.\n",
      "  np_resource = np.dtype([(\"resource\", np.ubyte, 1)])\n"
     ]
    }
   ],
   "source": [
    "import pandas as pd\n",
    "import numpy as np\n",
    "import matplotlib.pyplot as plt\n",
    "import matplotlib.image as mpimg\n",
    "import seaborn as sns\n",
    "%matplotlib inline\n",
    "\n",
    "np.random.seed(2)\n",
    "\n",
    "from sklearn.model_selection import train_test_split\n",
    "from sklearn.metrics import confusion_matrix\n",
    "import itertools\n",
    "\n",
    "from keras.utils.np_utils import to_categorical # convert to one-hot-encoding\n",
    "from keras.models import Sequential\n",
    "from keras.layers import Dense, Dropout, Flatten, Conv2D, MaxPooling2D\n",
    "from keras.optimizers import RMSprop\n",
    "from keras.preprocessing.image import ImageDataGenerator\n",
    "from keras.callbacks import ReduceLROnPlateau\n",
    "\n",
    "from sklearn.utils import shuffle\n",
    "\n",
    "import keras\n",
    "\n",
    "\n",
    "sns.set(style='white', context='notebook', palette='deep')"
   ]
  },
  {
   "cell_type": "code",
   "execution_count": 4,
   "metadata": {},
   "outputs": [],
   "source": [
    "train = pd.read_csv(\"input/train.csv\")\n",
    "test = pd.read_csv(\"input/test.csv\")"
   ]
  },
  {
   "cell_type": "markdown",
   "metadata": {},
   "source": [
    "#### Here, we are just setting the Y and X from the training dataset. "
   ]
  },
  {
   "cell_type": "code",
   "execution_count": 5,
   "metadata": {},
   "outputs": [
    {
     "data": {
      "text/plain": [
       "1    4684\n",
       "7    4401\n",
       "3    4351\n",
       "9    4188\n",
       "2    4177\n",
       "6    4137\n",
       "0    4132\n",
       "4    4072\n",
       "8    4063\n",
       "5    3795\n",
       "Name: label, dtype: int64"
      ]
     },
     "execution_count": 5,
     "metadata": {},
     "output_type": "execute_result"
    },
    {
     "data": {
      "image/png": "[encoded data removed]",
      "text/plain": [
       "<Figure size 432x288 with 1 Axes>"
      ]
     },
     "metadata": {},
     "output_type": "display_data"
    }
   ],
   "source": [
    "Y_train = train[\"label\"]\n",
    "\n",
    "# Drop 'label' column\n",
    "X_train = train.drop(labels = [\"label\"],axis = 1) \n",
    "\n",
    "sns.countplot(Y_train)\n",
    "\n",
    "Y_train.value_counts()"
   ]
  },
  {
   "cell_type": "markdown",
   "metadata": {},
   "source": [
    "#### Performing GrayScale Normalization"
   ]
  },
  {
   "cell_type": "code",
   "execution_count": 6,
   "metadata": {},
   "outputs": [],
   "source": [
    "X_train = X_train / 255.0\n",
    "test = test / 255.0"
   ]
  },
  {
   "cell_type": "code",
   "execution_count": 7,
   "metadata": {},
   "outputs": [],
   "source": [
    "X_train = X_train.values.reshape(-1,28,28,1)\n",
    "test = test.values.reshape(-1,28,28,1)"
   ]
  },
  {
   "cell_type": "code",
   "execution_count": 8,
   "metadata": {},
   "outputs": [],
   "source": [
    "Y_train = to_categorical(Y_train, num_classes = 10)"
   ]
  },
  {
   "cell_type": "code",
   "execution_count": 9,
   "metadata": {},
   "outputs": [
    {
     "data": {
      "image/png": "[encoded data removed]",
      "text/plain": [
       "<Figure size 432x288 with 1 Axes>"
      ]
     },
     "metadata": {},
     "output_type": "display_data"
    }
   ],
   "source": [
    "g = plt.imshow(X_train[0][:,:,0])"
   ]
  },
  {
   "cell_type": "code",
   "execution_count": 10,
   "metadata": {},
   "outputs": [],
   "source": [
    "X_train, X_val, Y_train, Y_val = train_test_split(X_train, Y_train, test_size = 0.1, random_state=42)"
   ]
  },
  {
   "cell_type": "markdown",
   "metadata": {},
   "source": [
    "### Building my own model + Data Augmentation"
   ]
  },
  {
   "cell_type": "markdown",
   "metadata": {},
   "source": [
    "#### Data Augmentation is the process of changing or adding noise to image"
   ]
  },
  {
   "cell_type": "code",
   "execution_count": 11,
   "metadata": {},
   "outputs": [],
   "source": [
    "# A helper function to create augmentation of images\n",
    "def augmentImages(images, multiple):\n",
    "    gen = ImageDataGenerator()\n",
    "    newImages = []\n",
    "    for _ in range(multiple):\n",
    "        for image in images:\n",
    "            transformedImage = gen.apply_transform(image, {'brightness': np.random.uniform(low = 0.5, high=0.99),\n",
    "                                                            'tx': np.random.random_integers(2),\n",
    "                                                            'ty': np.random.random_integers(2)})\n",
    "            newImages.append(transformedImage)\n",
    "    newImages = np.array(newImages)\n",
    "    return newImages"
   ]
  },
  {
   "cell_type": "markdown",
   "metadata": {},
   "source": [
    "### Deep Learning Model"
   ]
  },
  {
   "cell_type": "markdown",
   "metadata": {},
   "source": [
    "#### For this project I'm going to experiment with different model to see "
   ]
  },
  {
   "cell_type": "code",
   "execution_count": 12,
   "metadata": {},
   "outputs": [
    {
     "name": "stdout",
     "output_type": "stream",
     "text": [
      "WARNING:tensorflow:From /opt/anaconda3/lib/python3.7/site-packages/keras/backend/tensorflow_backend.py:4070: The name tf.nn.max_pool is deprecated. Please use tf.nn.max_pool2d instead.\n",
      "\n"
     ]
    }
   ],
   "source": [
    "model = Sequential()\n",
    "model.add(Conv2D(16, (3,3), activation='relu', input_shape=(28,28,1)))\n",
    "model.add(Conv2D(32, (3,3), activation='relu'))\n",
    "model.add(MaxPooling2D(pool_size=(2,2)))\n",
    "model.add(Dropout(0.3))\n",
    "\n",
    "model.add(Conv2D(64, (2,2), activation='relu'))\n",
    "model.add(Conv2D(128,(2,2), activation ='relu'))\n",
    "model.add(MaxPooling2D(pool_size=(2,2)))\n",
    "model.add(Dropout(0.3))\n",
    "\n",
    "model.add(Flatten())\n",
    "model.add(Dense(512, activation='relu'))\n",
    "model.add(Dense(10, activation='softmax'))"
   ]
  },
  {
   "cell_type": "code",
   "execution_count": 13,
   "metadata": {},
   "outputs": [],
   "source": [
    "model2 = Sequential()\n",
    "model2.add(Conv2D(16, (3,3), activation='relu', input_shape=(28,28,1)))\n",
    "model2.add(Conv2D(32, (3,3), activation='relu'))\n",
    "model2.add(MaxPooling2D(pool_size=(2,2)))\n",
    "model2.add(Dropout(0.3))\n",
    "\n",
    "model2.add(Conv2D(64, (2,2), activation='relu'))\n",
    "model2.add(Conv2D(128,(2,2), activation ='relu'))\n",
    "model2.add(MaxPooling2D(pool_size=(2,2)))\n",
    "model2.add(Dropout(0.3))\n",
    "\n",
    "model2.add(Flatten())\n",
    "model2.add(Dense(100, activation='relu'))\n",
    "model2.add(Dense(100, activation='relu'))\n",
    "model2.add(Dense(100, activation='relu'))\n",
    "model2.add(Dense(100, activation='relu'))\n",
    "model2.add(Dense(10, activation='softmax'))"
   ]
  },
  {
   "cell_type": "code",
   "execution_count": 14,
   "metadata": {},
   "outputs": [],
   "source": [
    "model3 = Sequential()\n",
    "model3.add(Conv2D(8, (2,2), activation='relu', input_shape=(28,28,1)))\n",
    "model3.add(Conv2D(16, (2,2), activation='relu'))\n",
    "model3.add(MaxPooling2D(pool_size=(2,2)))\n",
    "model3.add(Dropout(0.3))\n",
    "\n",
    "model3.add(Conv2D(32, (2,2), activation='relu'))\n",
    "model3.add(Conv2D(64,(2,2), activation ='relu'))\n",
    "model3.add(MaxPooling2D(pool_size=(2,2)))\n",
    "model3.add(Dropout(0.3))\n",
    "\n",
    "model3.add(Flatten())\n",
    "model3.add(Dense(512, activation='relu'))\n",
    "model3.add(Dense(10, activation='softmax'))"
   ]
  },
  {
   "cell_type": "code",
   "execution_count": 15,
   "metadata": {},
   "outputs": [],
   "source": [
    "from keras.callbacks import EarlyStopping\n",
    "\n",
    "early_stopping_monitor = EarlyStopping(patience=2)\n",
    "\n",
    "model.compile(optimizer=keras.optimizers.SGD(1e-3),\n",
    "              loss = 'categorical_crossentropy',\n",
    "              metrics=['accuracy']\n",
    "             )\n",
    "\n",
    "model2.compile(optimizer=keras.optimizers.SGD(1e-3),\n",
    "              loss = 'categorical_crossentropy',\n",
    "              metrics=['accuracy']\n",
    "             )\n",
    "\n",
    "model3.compile(optimizer=keras.optimizers.SGD(1e-3),\n",
    "              loss = 'categorical_crossentropy',\n",
    "              metrics=['accuracy']\n",
    "             )"
   ]
  },
  {
   "cell_type": "code",
   "execution_count": 16,
   "metadata": {},
   "outputs": [
    {
     "name": "stderr",
     "output_type": "stream",
     "text": [
      "/opt/anaconda3/lib/python3.7/site-packages/ipykernel_launcher.py:8: DeprecationWarning: This function is deprecated. Please call randint(1, 2 + 1) instead\n",
      "  \n",
      "/opt/anaconda3/lib/python3.7/site-packages/ipykernel_launcher.py:9: DeprecationWarning: This function is deprecated. Please call randint(1, 2 + 1) instead\n",
      "  if __name__ == '__main__':\n"
     ]
    }
   ],
   "source": [
    "newNumbers = augmentImages([X_train[0]],1)"
   ]
  },
  {
   "cell_type": "code",
   "execution_count": 17,
   "metadata": {},
   "outputs": [
    {
     "data": {
      "text/plain": [
       "<matplotlib.image.AxesImage at 0x7f9a0d1d7290>"
      ]
     },
     "execution_count": 17,
     "metadata": {},
     "output_type": "execute_result"
    },
    {
     "data": {
      "image/png": "[encoded data removed]",
      "text/plain": [
       "<Figure size 432x288 with 1 Axes>"
      ]
     },
     "metadata": {},
     "output_type": "display_data"
    }
   ],
   "source": [
    "plt.imshow(newNumbers.reshape(28,28))"
   ]
  },
  {
   "cell_type": "code",
   "execution_count": 18,
   "metadata": {},
   "outputs": [
    {
     "data": {
      "text/plain": [
       "<matplotlib.image.AxesImage at 0x7f9a5f5a38d0>"
      ]
     },
     "execution_count": 18,
     "metadata": {},
     "output_type": "execute_result"
    },
    {
     "data": {
      "image/png": "[encoded data removed]",
      "text/plain": [
       "<Figure size 432x288 with 1 Axes>"
      ]
     },
     "metadata": {},
     "output_type": "display_data"
    }
   ],
   "source": [
    "plt.imshow(X_train[0].reshape(28,28))"
   ]
  },
  {
   "cell_type": "code",
   "execution_count": 19,
   "metadata": {},
   "outputs": [
    {
     "name": "stderr",
     "output_type": "stream",
     "text": [
      "/opt/anaconda3/lib/python3.7/site-packages/ipykernel_launcher.py:8: DeprecationWarning: This function is deprecated. Please call randint(1, 2 + 1) instead\n",
      "  \n",
      "/opt/anaconda3/lib/python3.7/site-packages/ipykernel_launcher.py:9: DeprecationWarning: This function is deprecated. Please call randint(1, 2 + 1) instead\n",
      "  if __name__ == '__main__':\n"
     ]
    }
   ],
   "source": [
    "augmentPic = augmentImages(X_train,1)"
   ]
  },
  {
   "cell_type": "code",
   "execution_count": 20,
   "metadata": {},
   "outputs": [],
   "source": [
    "x_train, y_train = shuffle(X_train, Y_train)"
   ]
  },
  {
   "cell_type": "code",
   "execution_count": 21,
   "metadata": {},
   "outputs": [
    {
     "name": "stdout",
     "output_type": "stream",
     "text": [
      "WARNING:tensorflow:From /opt/anaconda3/lib/python3.7/site-packages/keras/backend/tensorflow_backend.py:422: The name tf.global_variables is deprecated. Please use tf.compat.v1.global_variables instead.\n",
      "\n",
      "Train on 22680 samples, validate on 15120 samples\n",
      "Epoch 1/50\n",
      "22680/22680 [==============================] - 27s 1ms/step - loss: 2.2840 - accuracy: 0.1959 - val_loss: 2.2622 - val_accuracy: 0.3759\n",
      "Epoch 2/50\n",
      "22680/22680 [==============================] - 25s 1ms/step - loss: 2.2070 - accuracy: 0.3492 - val_loss: 2.0838 - val_accuracy: 0.4870\n",
      "Epoch 3/50\n",
      "22680/22680 [==============================] - 25s 1ms/step - loss: 1.5286 - accuracy: 0.5649 - val_loss: 0.7957 - val_accuracy: 0.7854\n",
      "Epoch 4/50\n",
      "22680/22680 [==============================] - 26s 1ms/step - loss: 0.8027 - accuracy: 0.7347 - val_loss: 0.5310 - val_accuracy: 0.8442\n",
      "Epoch 5/50\n",
      "22680/22680 [==============================] - 26s 1ms/step - loss: 0.6658 - accuracy: 0.7831 - val_loss: 0.4653 - val_accuracy: 0.8675\n",
      "Epoch 6/50\n",
      "22680/22680 [==============================] - 26s 1ms/step - loss: 0.5869 - accuracy: 0.8109 - val_loss: 0.4316 - val_accuracy: 0.8706\n",
      "Epoch 7/50\n",
      "22680/22680 [==============================] - 26s 1ms/step - loss: 0.5341 - accuracy: 0.8284 - val_loss: 0.3926 - val_accuracy: 0.8835\n",
      "Epoch 8/50\n",
      "22680/22680 [==============================] - 27s 1ms/step - loss: 0.4887 - accuracy: 0.8473 - val_loss: 0.3702 - val_accuracy: 0.8879\n",
      "Epoch 9/50\n",
      "22680/22680 [==============================] - 27s 1ms/step - loss: 0.4567 - accuracy: 0.8552 - val_loss: 0.3345 - val_accuracy: 0.9001\n",
      "Epoch 10/50\n",
      "22680/22680 [==============================] - 26s 1ms/step - loss: 0.4246 - accuracy: 0.8686 - val_loss: 0.3201 - val_accuracy: 0.9021\n",
      "Epoch 11/50\n",
      "22680/22680 [==============================] - 26s 1ms/step - loss: 0.3973 - accuracy: 0.8746 - val_loss: 0.2987 - val_accuracy: 0.9099\n",
      "Epoch 12/50\n",
      "22680/22680 [==============================] - 26s 1ms/step - loss: 0.3685 - accuracy: 0.8847 - val_loss: 0.2687 - val_accuracy: 0.9232\n",
      "Epoch 13/50\n",
      "22680/22680 [==============================] - 26s 1ms/step - loss: 0.3481 - accuracy: 0.8914 - val_loss: 0.2620 - val_accuracy: 0.9232\n",
      "Epoch 14/50\n",
      "22680/22680 [==============================] - 26s 1ms/step - loss: 0.3245 - accuracy: 0.8983 - val_loss: 0.2501 - val_accuracy: 0.9234\n",
      "Epoch 15/50\n",
      "22680/22680 [==============================] - 26s 1ms/step - loss: 0.3025 - accuracy: 0.9054 - val_loss: 0.2441 - val_accuracy: 0.9292\n",
      "Epoch 16/50\n",
      "22680/22680 [==============================] - 26s 1ms/step - loss: 0.2854 - accuracy: 0.9102 - val_loss: 0.2194 - val_accuracy: 0.9339\n",
      "Epoch 17/50\n",
      "22680/22680 [==============================] - 26s 1ms/step - loss: 0.2654 - accuracy: 0.9176 - val_loss: 0.1940 - val_accuracy: 0.9454\n",
      "Epoch 18/50\n",
      "22680/22680 [==============================] - 26s 1ms/step - loss: 0.2514 - accuracy: 0.9200 - val_loss: 0.1846 - val_accuracy: 0.9457\n",
      "Epoch 19/50\n",
      "22680/22680 [==============================] - 26s 1ms/step - loss: 0.2333 - accuracy: 0.9286 - val_loss: 0.1745 - val_accuracy: 0.9499\n",
      "Epoch 20/50\n",
      "22680/22680 [==============================] - 26s 1ms/step - loss: 0.2229 - accuracy: 0.9312 - val_loss: 0.1620 - val_accuracy: 0.9536\n",
      "Epoch 21/50\n",
      "22680/22680 [==============================] - 27s 1ms/step - loss: 0.2136 - accuracy: 0.9346 - val_loss: 0.1553 - val_accuracy: 0.9550\n",
      "Epoch 22/50\n",
      "22680/22680 [==============================] - 27s 1ms/step - loss: 0.2026 - accuracy: 0.9369 - val_loss: 0.1483 - val_accuracy: 0.9570\n",
      "Epoch 23/50\n",
      "22680/22680 [==============================] - 29s 1ms/step - loss: 0.1945 - accuracy: 0.9410 - val_loss: 0.1377 - val_accuracy: 0.9605\n",
      "Epoch 24/50\n",
      "22680/22680 [==============================] - 29s 1ms/step - loss: 0.1869 - accuracy: 0.9428 - val_loss: 0.1347 - val_accuracy: 0.9612\n",
      "Epoch 25/50\n",
      "22680/22680 [==============================] - 27s 1ms/step - loss: 0.1774 - accuracy: 0.9460 - val_loss: 0.1307 - val_accuracy: 0.9616\n",
      "Epoch 26/50\n",
      "22680/22680 [==============================] - 27s 1ms/step - loss: 0.1749 - accuracy: 0.9462 - val_loss: 0.1259 - val_accuracy: 0.9626\n",
      "Epoch 27/50\n",
      "22680/22680 [==============================] - 27s 1ms/step - loss: 0.1666 - accuracy: 0.9481 - val_loss: 0.1238 - val_accuracy: 0.9618\n",
      "Epoch 28/50\n",
      "22680/22680 [==============================] - 27s 1ms/step - loss: 0.1618 - accuracy: 0.9513 - val_loss: 0.1191 - val_accuracy: 0.9644\n",
      "Epoch 29/50\n",
      "22680/22680 [==============================] - 27s 1ms/step - loss: 0.1554 - accuracy: 0.9530 - val_loss: 0.1169 - val_accuracy: 0.9646\n",
      "Epoch 30/50\n",
      "22680/22680 [==============================] - 27s 1ms/step - loss: 0.1541 - accuracy: 0.9526 - val_loss: 0.1091 - val_accuracy: 0.9676\n",
      "Epoch 31/50\n",
      "22680/22680 [==============================] - 28s 1ms/step - loss: 0.1482 - accuracy: 0.9555 - val_loss: 0.1077 - val_accuracy: 0.9673\n",
      "Epoch 32/50\n",
      "22680/22680 [==============================] - 28s 1ms/step - loss: 0.1445 - accuracy: 0.9550 - val_loss: 0.1074 - val_accuracy: 0.9678\n",
      "Epoch 33/50\n",
      "22680/22680 [==============================] - 27s 1ms/step - loss: 0.1401 - accuracy: 0.9574 - val_loss: 0.1006 - val_accuracy: 0.9704\n",
      "Epoch 34/50\n",
      "22680/22680 [==============================] - 28s 1ms/step - loss: 0.1418 - accuracy: 0.9554 - val_loss: 0.1011 - val_accuracy: 0.9684\n",
      "Epoch 35/50\n",
      "22680/22680 [==============================] - 29s 1ms/step - loss: 0.1356 - accuracy: 0.9576 - val_loss: 0.1016 - val_accuracy: 0.9686\n"
     ]
    },
    {
     "data": {
      "text/plain": [
       "<keras.callbacks.callbacks.History at 0x7f9a5f5b1d90>"
      ]
     },
     "execution_count": 21,
     "metadata": {},
     "output_type": "execute_result"
    }
   ],
   "source": [
    "model.fit(x_train, y_train, batch_size = 32, epochs=50, validation_split=0.4, callbacks=[early_stopping_monitor])"
   ]
  },
  {
   "cell_type": "code",
   "execution_count": 22,
   "metadata": {},
   "outputs": [
    {
     "name": "stdout",
     "output_type": "stream",
     "text": [
      "Train on 22680 samples, validate on 15120 samples\n",
      "Epoch 1/50\n",
      "22680/22680 [==============================] - 28s 1ms/step - loss: 2.3028 - accuracy: 0.1141 - val_loss: 2.3010 - val_accuracy: 0.1120\n",
      "Epoch 2/50\n",
      "22680/22680 [==============================] - 28s 1ms/step - loss: 2.3006 - accuracy: 0.1126 - val_loss: 2.2987 - val_accuracy: 0.1119\n",
      "Epoch 3/50\n",
      "22680/22680 [==============================] - 29s 1ms/step - loss: 2.2983 - accuracy: 0.1148 - val_loss: 2.2960 - val_accuracy: 0.1119\n",
      "Epoch 4/50\n",
      "22680/22680 [==============================] - 28s 1ms/step - loss: 2.2956 - accuracy: 0.1264 - val_loss: 2.2925 - val_accuracy: 0.1128\n",
      "Epoch 5/50\n",
      "22680/22680 [==============================] - 28s 1ms/step - loss: 2.2919 - accuracy: 0.1474 - val_loss: 2.2881 - val_accuracy: 0.1327\n",
      "Epoch 6/50\n",
      "22680/22680 [==============================] - 29s 1ms/step - loss: 2.2869 - accuracy: 0.1887 - val_loss: 2.2820 - val_accuracy: 0.1969\n",
      "Epoch 7/50\n",
      "22680/22680 [==============================] - 29s 1ms/step - loss: 2.2798 - accuracy: 0.2403 - val_loss: 2.2729 - val_accuracy: 0.2683\n",
      "Epoch 8/50\n",
      "22680/22680 [==============================] - 29s 1ms/step - loss: 2.2677 - accuracy: 0.2806 - val_loss: 2.2567 - val_accuracy: 0.3085\n",
      "Epoch 9/50\n",
      "22680/22680 [==============================] - 29s 1ms/step - loss: 2.2450 - accuracy: 0.2919 - val_loss: 2.2218 - val_accuracy: 0.3256\n",
      "Epoch 10/50\n",
      "22680/22680 [==============================] - 29s 1ms/step - loss: 2.1796 - accuracy: 0.3009 - val_loss: 2.1009 - val_accuracy: 0.3265\n",
      "Epoch 11/50\n",
      "22680/22680 [==============================] - 29s 1ms/step - loss: 1.8709 - accuracy: 0.3895 - val_loss: 1.4788 - val_accuracy: 0.5376\n",
      "Epoch 12/50\n",
      "22680/22680 [==============================] - 28s 1ms/step - loss: 1.1581 - accuracy: 0.6133 - val_loss: 0.7632 - val_accuracy: 0.7775\n",
      "Epoch 13/50\n",
      "22680/22680 [==============================] - 29s 1ms/step - loss: 0.7775 - accuracy: 0.7412 - val_loss: 0.5348 - val_accuracy: 0.8477\n",
      "Epoch 14/50\n",
      "22680/22680 [==============================] - 28s 1ms/step - loss: 0.6324 - accuracy: 0.7934 - val_loss: 0.4513 - val_accuracy: 0.8670\n",
      "Epoch 15/50\n",
      "22680/22680 [==============================] - 29s 1ms/step - loss: 0.5552 - accuracy: 0.8159 - val_loss: 0.4148 - val_accuracy: 0.8717\n",
      "Epoch 16/50\n",
      "22680/22680 [==============================] - 29s 1ms/step - loss: 0.5116 - accuracy: 0.8350 - val_loss: 0.3776 - val_accuracy: 0.8864\n",
      "Epoch 17/50\n",
      "22680/22680 [==============================] - 29s 1ms/step - loss: 0.4700 - accuracy: 0.8477 - val_loss: 0.3583 - val_accuracy: 0.8940\n",
      "Epoch 18/50\n",
      "22680/22680 [==============================] - 28s 1ms/step - loss: 0.4432 - accuracy: 0.8551 - val_loss: 0.3529 - val_accuracy: 0.8932\n",
      "Epoch 19/50\n",
      "22680/22680 [==============================] - 29s 1ms/step - loss: 0.4119 - accuracy: 0.8690 - val_loss: 0.3310 - val_accuracy: 0.8967\n",
      "Epoch 20/50\n",
      "22680/22680 [==============================] - 29s 1ms/step - loss: 0.3899 - accuracy: 0.8729 - val_loss: 0.3110 - val_accuracy: 0.9058\n",
      "Epoch 21/50\n",
      "22680/22680 [==============================] - 28s 1ms/step - loss: 0.3728 - accuracy: 0.8824 - val_loss: 0.2814 - val_accuracy: 0.9130\n",
      "Epoch 22/50\n",
      "22680/22680 [==============================] - 28s 1ms/step - loss: 0.3486 - accuracy: 0.8904 - val_loss: 0.2716 - val_accuracy: 0.9161\n",
      "Epoch 23/50\n",
      "22680/22680 [==============================] - 29s 1ms/step - loss: 0.3303 - accuracy: 0.8956 - val_loss: 0.2552 - val_accuracy: 0.9228\n",
      "Epoch 24/50\n",
      "22680/22680 [==============================] - 29s 1ms/step - loss: 0.3135 - accuracy: 0.9005 - val_loss: 0.2565 - val_accuracy: 0.9163\n",
      "Epoch 25/50\n",
      "22680/22680 [==============================] - 28s 1ms/step - loss: 0.2967 - accuracy: 0.9072 - val_loss: 0.2371 - val_accuracy: 0.9252\n",
      "Epoch 26/50\n",
      "22680/22680 [==============================] - 29s 1ms/step - loss: 0.2807 - accuracy: 0.9119 - val_loss: 0.2228 - val_accuracy: 0.9304\n",
      "Epoch 27/50\n",
      "22680/22680 [==============================] - 28s 1ms/step - loss: 0.2675 - accuracy: 0.9157 - val_loss: 0.2047 - val_accuracy: 0.9384\n",
      "Epoch 28/50\n",
      "22680/22680 [==============================] - 29s 1ms/step - loss: 0.2574 - accuracy: 0.9187 - val_loss: 0.1934 - val_accuracy: 0.9415\n",
      "Epoch 29/50\n",
      "22680/22680 [==============================] - 29s 1ms/step - loss: 0.2438 - accuracy: 0.9228 - val_loss: 0.1859 - val_accuracy: 0.9440\n",
      "Epoch 30/50\n",
      "22680/22680 [==============================] - 28s 1ms/step - loss: 0.2333 - accuracy: 0.9255 - val_loss: 0.1761 - val_accuracy: 0.9458\n",
      "Epoch 31/50\n",
      "22680/22680 [==============================] - 31s 1ms/step - loss: 0.2241 - accuracy: 0.9300 - val_loss: 0.1686 - val_accuracy: 0.9480\n",
      "Epoch 32/50\n",
      "22680/22680 [==============================] - 32s 1ms/step - loss: 0.2151 - accuracy: 0.9340 - val_loss: 0.1629 - val_accuracy: 0.9505\n",
      "Epoch 33/50\n",
      "22680/22680 [==============================] - 29s 1ms/step - loss: 0.2022 - accuracy: 0.9360 - val_loss: 0.1546 - val_accuracy: 0.9528\n",
      "Epoch 34/50\n",
      "22680/22680 [==============================] - 29s 1ms/step - loss: 0.2001 - accuracy: 0.9372 - val_loss: 0.1518 - val_accuracy: 0.9536\n",
      "Epoch 35/50\n",
      "22680/22680 [==============================] - 29s 1ms/step - loss: 0.1921 - accuracy: 0.9400 - val_loss: 0.1492 - val_accuracy: 0.9538\n",
      "Epoch 36/50\n",
      "22680/22680 [==============================] - 29s 1ms/step - loss: 0.1805 - accuracy: 0.9430 - val_loss: 0.1471 - val_accuracy: 0.9538\n",
      "Epoch 37/50\n",
      "22680/22680 [==============================] - 30s 1ms/step - loss: 0.1787 - accuracy: 0.9439 - val_loss: 0.1410 - val_accuracy: 0.9555\n",
      "Epoch 38/50\n",
      "22680/22680 [==============================] - 30s 1ms/step - loss: 0.1725 - accuracy: 0.9477 - val_loss: 0.1342 - val_accuracy: 0.9584\n",
      "Epoch 39/50\n",
      "22680/22680 [==============================] - 28s 1ms/step - loss: 0.1700 - accuracy: 0.9463 - val_loss: 0.1291 - val_accuracy: 0.9598\n",
      "Epoch 40/50\n",
      "22680/22680 [==============================] - 27s 1ms/step - loss: 0.1639 - accuracy: 0.9494 - val_loss: 0.1230 - val_accuracy: 0.9612\n",
      "Epoch 41/50\n",
      "22680/22680 [==============================] - 25s 1ms/step - loss: 0.1572 - accuracy: 0.9502 - val_loss: 0.1222 - val_accuracy: 0.9616\n",
      "Epoch 42/50\n",
      "22680/22680 [==============================] - 25s 1ms/step - loss: 0.1508 - accuracy: 0.9529 - val_loss: 0.1186 - val_accuracy: 0.9624\n",
      "Epoch 43/50\n",
      "22680/22680 [==============================] - 25s 1ms/step - loss: 0.1464 - accuracy: 0.9541 - val_loss: 0.1137 - val_accuracy: 0.9656\n",
      "Epoch 44/50\n",
      "22680/22680 [==============================] - 25s 1ms/step - loss: 0.1403 - accuracy: 0.9552 - val_loss: 0.1095 - val_accuracy: 0.9652\n",
      "Epoch 45/50\n",
      "22680/22680 [==============================] - 25s 1ms/step - loss: 0.1420 - accuracy: 0.9551 - val_loss: 0.1096 - val_accuracy: 0.9651\n",
      "Epoch 46/50\n",
      "22680/22680 [==============================] - 25s 1ms/step - loss: 0.1388 - accuracy: 0.9566 - val_loss: 0.1091 - val_accuracy: 0.9665\n",
      "Epoch 47/50\n",
      "22680/22680 [==============================] - 25s 1ms/step - loss: 0.1346 - accuracy: 0.9575 - val_loss: 0.1050 - val_accuracy: 0.9671\n",
      "Epoch 48/50\n",
      "22680/22680 [==============================] - 25s 1ms/step - loss: 0.1314 - accuracy: 0.9588 - val_loss: 0.1031 - val_accuracy: 0.9688\n",
      "Epoch 49/50\n",
      "22680/22680 [==============================] - 25s 1ms/step - loss: 0.1282 - accuracy: 0.9597 - val_loss: 0.1026 - val_accuracy: 0.9674\n",
      "Epoch 50/50\n",
      "22680/22680 [==============================] - 25s 1ms/step - loss: 0.1285 - accuracy: 0.9598 - val_loss: 0.0999 - val_accuracy: 0.9695\n"
     ]
    },
    {
     "data": {
      "text/plain": [
       "<keras.callbacks.callbacks.History at 0x7f9a2bc2f650>"
      ]
     },
     "execution_count": 22,
     "metadata": {},
     "output_type": "execute_result"
    }
   ],
   "source": [
    "model2.fit(x_train, y_train, batch_size = 32, epochs=50, validation_split=0.4, callbacks=[early_stopping_monitor])"
   ]
  },
  {
   "cell_type": "code",
   "execution_count": 24,
   "metadata": {},
   "outputs": [
    {
     "name": "stdout",
     "output_type": "stream",
     "text": [
      "Train on 22680 samples, validate on 15120 samples\n",
      "Epoch 1/50\n",
      "22680/22680 [==============================] - 15s 656us/step - loss: 2.2621 - accuracy: 0.1668 - val_loss: 2.2171 - val_accuracy: 0.4317\n",
      "Epoch 2/50\n",
      "22680/22680 [==============================] - 14s 619us/step - loss: 2.0587 - accuracy: 0.4070 - val_loss: 1.7114 - val_accuracy: 0.6707\n",
      "Epoch 3/50\n",
      "22680/22680 [==============================] - 14s 613us/step - loss: 1.1794 - accuracy: 0.6487 - val_loss: 0.6723 - val_accuracy: 0.8095\n",
      "Epoch 4/50\n",
      "22680/22680 [==============================] - 14s 606us/step - loss: 0.7849 - accuracy: 0.7381 - val_loss: 0.5193 - val_accuracy: 0.8465\n",
      "Epoch 5/50\n",
      "22680/22680 [==============================] - 14s 609us/step - loss: 0.6679 - accuracy: 0.7794 - val_loss: 0.4738 - val_accuracy: 0.8519\n",
      "Epoch 6/50\n",
      "22680/22680 [==============================] - 13s 594us/step - loss: 0.5968 - accuracy: 0.8058 - val_loss: 0.4325 - val_accuracy: 0.8698\n",
      "Epoch 7/50\n",
      "22680/22680 [==============================] - 13s 574us/step - loss: 0.5421 - accuracy: 0.8250 - val_loss: 0.3925 - val_accuracy: 0.8777\n",
      "Epoch 8/50\n",
      "22680/22680 [==============================] - 14s 626us/step - loss: 0.5037 - accuracy: 0.8402 - val_loss: 0.3713 - val_accuracy: 0.8855\n",
      "Epoch 9/50\n",
      "22680/22680 [==============================] - 15s 670us/step - loss: 0.4715 - accuracy: 0.8473 - val_loss: 0.3431 - val_accuracy: 0.8967\n",
      "Epoch 10/50\n",
      "22680/22680 [==============================] - 15s 678us/step - loss: 0.4329 - accuracy: 0.8642 - val_loss: 0.3191 - val_accuracy: 0.9038\n",
      "Epoch 11/50\n",
      "22680/22680 [==============================] - 16s 704us/step - loss: 0.4125 - accuracy: 0.8691 - val_loss: 0.3120 - val_accuracy: 0.9036\n",
      "Epoch 12/50\n",
      "22680/22680 [==============================] - 16s 692us/step - loss: 0.3806 - accuracy: 0.8805 - val_loss: 0.2856 - val_accuracy: 0.9127\n",
      "Epoch 13/50\n",
      "22680/22680 [==============================] - 15s 678us/step - loss: 0.3573 - accuracy: 0.8902 - val_loss: 0.2613 - val_accuracy: 0.9206\n",
      "Epoch 14/50\n",
      "22680/22680 [==============================] - 15s 682us/step - loss: 0.3373 - accuracy: 0.8945 - val_loss: 0.2422 - val_accuracy: 0.9270\n",
      "Epoch 15/50\n",
      "22680/22680 [==============================] - 15s 676us/step - loss: 0.3195 - accuracy: 0.9006 - val_loss: 0.2372 - val_accuracy: 0.9267\n",
      "Epoch 16/50\n",
      "22680/22680 [==============================] - 15s 659us/step - loss: 0.2974 - accuracy: 0.9082 - val_loss: 0.2254 - val_accuracy: 0.9304\n",
      "Epoch 17/50\n",
      "22680/22680 [==============================] - 15s 657us/step - loss: 0.2864 - accuracy: 0.9097 - val_loss: 0.2049 - val_accuracy: 0.9370\n",
      "Epoch 18/50\n",
      "22680/22680 [==============================] - 15s 674us/step - loss: 0.2721 - accuracy: 0.9174 - val_loss: 0.2003 - val_accuracy: 0.9386\n",
      "Epoch 19/50\n",
      "22680/22680 [==============================] - 15s 678us/step - loss: 0.2581 - accuracy: 0.9187 - val_loss: 0.1891 - val_accuracy: 0.9421\n",
      "Epoch 20/50\n",
      "22680/22680 [==============================] - 15s 677us/step - loss: 0.2502 - accuracy: 0.9220 - val_loss: 0.1822 - val_accuracy: 0.9423\n",
      "Epoch 21/50\n",
      "22680/22680 [==============================] - 15s 675us/step - loss: 0.2417 - accuracy: 0.9246 - val_loss: 0.1767 - val_accuracy: 0.9450\n",
      "Epoch 22/50\n",
      "22680/22680 [==============================] - 15s 677us/step - loss: 0.2313 - accuracy: 0.9276 - val_loss: 0.1652 - val_accuracy: 0.9485\n",
      "Epoch 23/50\n",
      "22680/22680 [==============================] - 15s 674us/step - loss: 0.2215 - accuracy: 0.9314 - val_loss: 0.1613 - val_accuracy: 0.9498\n",
      "Epoch 24/50\n",
      "22680/22680 [==============================] - 15s 669us/step - loss: 0.2170 - accuracy: 0.9314 - val_loss: 0.1526 - val_accuracy: 0.9526\n",
      "Epoch 25/50\n",
      "22680/22680 [==============================] - 15s 675us/step - loss: 0.2124 - accuracy: 0.9337 - val_loss: 0.1496 - val_accuracy: 0.9542\n",
      "Epoch 26/50\n",
      "22680/22680 [==============================] - 15s 678us/step - loss: 0.2008 - accuracy: 0.9369 - val_loss: 0.1428 - val_accuracy: 0.9546\n",
      "Epoch 27/50\n",
      "22680/22680 [==============================] - 16s 701us/step - loss: 0.1997 - accuracy: 0.9390 - val_loss: 0.1409 - val_accuracy: 0.9559\n",
      "Epoch 28/50\n",
      "22680/22680 [==============================] - 16s 699us/step - loss: 0.1882 - accuracy: 0.9405 - val_loss: 0.1386 - val_accuracy: 0.9561\n",
      "Epoch 29/50\n",
      "22680/22680 [==============================] - 16s 701us/step - loss: 0.1919 - accuracy: 0.9407 - val_loss: 0.1333 - val_accuracy: 0.9585\n",
      "Epoch 30/50\n",
      "22680/22680 [==============================] - 16s 707us/step - loss: 0.1857 - accuracy: 0.9432 - val_loss: 0.1311 - val_accuracy: 0.9585\n",
      "Epoch 31/50\n",
      "22680/22680 [==============================] - 16s 715us/step - loss: 0.1817 - accuracy: 0.9419 - val_loss: 0.1282 - val_accuracy: 0.9597\n",
      "Epoch 32/50\n",
      "22680/22680 [==============================] - 17s 736us/step - loss: 0.1759 - accuracy: 0.9438 - val_loss: 0.1216 - val_accuracy: 0.9618\n",
      "Epoch 33/50\n",
      "22680/22680 [==============================] - 17s 734us/step - loss: 0.1686 - accuracy: 0.9483 - val_loss: 0.1218 - val_accuracy: 0.9618\n",
      "Epoch 34/50\n",
      "22680/22680 [==============================] - 17s 733us/step - loss: 0.1684 - accuracy: 0.9478 - val_loss: 0.1237 - val_accuracy: 0.9606\n"
     ]
    },
    {
     "data": {
      "text/plain": [
       "<keras.callbacks.callbacks.History at 0x7f9a2bc87e10>"
      ]
     },
     "execution_count": 24,
     "metadata": {},
     "output_type": "execute_result"
    }
   ],
   "source": [
    "model3.fit(x_train, y_train, batch_size = 32, epochs=50, validation_split=0.4, callbacks=[early_stopping_monitor])"
   ]
  },
  {
   "cell_type": "code",
   "execution_count": 25,
   "metadata": {},
   "outputs": [
    {
     "name": "stdout",
     "output_type": "stream",
     "text": [
      "Test loss: 0.10766396850702309\n",
      "Test accuracy 0.9671428799629211\n"
     ]
    }
   ],
   "source": [
    "score = model.evaluate(X_val, Y_val, verbose = 0)\n",
    "print('Test loss:', score[0])\n",
    "print('Test accuracy', score[1])"
   ]
  },
  {
   "cell_type": "code",
   "execution_count": 26,
   "metadata": {},
   "outputs": [
    {
     "name": "stdout",
     "output_type": "stream",
     "text": [
      "Test loss: 0.10610142052705798\n",
      "Test accuracy 0.9661904573440552\n"
     ]
    }
   ],
   "source": [
    "score = model2.evaluate(X_val, Y_val, verbose = 0)\n",
    "print('Test loss:', score[0])\n",
    "print('Test accuracy', score[1])"
   ]
  },
  {
   "cell_type": "code",
   "execution_count": 27,
   "metadata": {},
   "outputs": [
    {
     "name": "stdout",
     "output_type": "stream",
     "text": [
      "Test loss: 0.12269145318440029\n",
      "Test accuracy 0.9611904621124268\n"
     ]
    }
   ],
   "source": [
    "score = model3.evaluate(X_val, Y_val, verbose = 0)\n",
    "print('Test loss:', score[0])\n",
    "print('Test accuracy', score[1])"
   ]
  },
  {
   "cell_type": "code",
   "execution_count": null,
   "metadata": {},
   "outputs": [],
   "source": []
  }
 ],
 "metadata": {
  "kernelspec": {
   "display_name": "Python 3",
   "language": "python",
   "name": "python3"
  },
  "language_info": {
   "codemirror_mode": {
    "name": "ipython",
    "version": 3
   },
   "file_extension": ".py",
   "mimetype": "text/x-python",
   "name": "python",
   "nbconvert_exporter": "python",
   "pygments_lexer": "ipython3",
   "version": "3.7.6"
  }
 },
 "nbformat": 4,
 "nbformat_minor": 4
}
