{
 "cells": [
  {
   "cell_type": "code",
   "execution_count": 1,
   "metadata": {
    "_cell_guid": "b1076dfc-b9ad-4769-8c92-a6c4dae69d19",
    "_uuid": "8f2839f25d086af736a60e9eeb907d3b93b6e0e5"
   },
   "outputs": [],
   "source": [
    "import numpy as np # linear algebra\n",
    "import pandas as pd # data processing, CSV file I/O (e.g. pd.read_csv)"
   ]
  },
  {
   "cell_type": "code",
   "execution_count": 2,
   "metadata": {
    "_cell_guid": "79c7e3d0-c299-4dcb-8224-4455121ee9b0",
    "_uuid": "d629ff2d2480ee46fbb7e2d37f6b5fab8052498a"
   },
   "outputs": [
    {
     "name": "stderr",
     "output_type": "stream",
     "text": [
      "Using TensorFlow backend.\n",
      "/opt/anaconda3/lib/python3.7/site-packages/tensorflow/python/framework/dtypes.py:516: FutureWarning: Passing (type, 1) or '1type' as a synonym of type is deprecated; in a future version of numpy, it will be understood as (type, (1,)) / '(1,)type'.\n",
      "  _np_qint8 = np.dtype([(\"qint8\", np.int8, 1)])\n",
      "/opt/anaconda3/lib/python3.7/site-packages/tensorflow/python/framework/dtypes.py:517: FutureWarning: Passing (type, 1) or '1type' as a synonym of type is deprecated; in a future version of numpy, it will be understood as (type, (1,)) / '(1,)type'.\n",
      "  _np_quint8 = np.dtype([(\"quint8\", np.uint8, 1)])\n",
      "/opt/anaconda3/lib/python3.7/site-packages/tensorflow/python/framework/dtypes.py:518: FutureWarning: Passing (type, 1) or '1type' as a synonym of type is deprecated; in a future version of numpy, it will be understood as (type, (1,)) / '(1,)type'.\n",
      "  _np_qint16 = np.dtype([(\"qint16\", np.int16, 1)])\n",
      "/opt/anaconda3/lib/python3.7/site-packages/tensorflow/python/framework/dtypes.py:519: FutureWarning: Passing (type, 1) or '1type' as a synonym of type is deprecated; in a future version of numpy, it will be understood as (type, (1,)) / '(1,)type'.\n",
      "  _np_quint16 = np.dtype([(\"quint16\", np.uint16, 1)])\n",
      "/opt/anaconda3/lib/python3.7/site-packages/tensorflow/python/framework/dtypes.py:520: FutureWarning: Passing (type, 1) or '1type' as a synonym of type is deprecated; in a future version of numpy, it will be understood as (type, (1,)) / '(1,)type'.\n",
      "  _np_qint32 = np.dtype([(\"qint32\", np.int32, 1)])\n",
      "/opt/anaconda3/lib/python3.7/site-packages/tensorflow/python/framework/dtypes.py:525: FutureWarning: Passing (type, 1) or '1type' as a synonym of type is deprecated; in a future version of numpy, it will be understood as (type, (1,)) / '(1,)type'.\n",
      "  np_resource = np.dtype([(\"resource\", np.ubyte, 1)])\n",
      "/opt/anaconda3/lib/python3.7/site-packages/tensorboard/compat/tensorflow_stub/dtypes.py:541: FutureWarning: Passing (type, 1) or '1type' as a synonym of type is deprecated; in a future version of numpy, it will be understood as (type, (1,)) / '(1,)type'.\n",
      "  _np_qint8 = np.dtype([(\"qint8\", np.int8, 1)])\n",
      "/opt/anaconda3/lib/python3.7/site-packages/tensorboard/compat/tensorflow_stub/dtypes.py:542: FutureWarning: Passing (type, 1) or '1type' as a synonym of type is deprecated; in a future version of numpy, it will be understood as (type, (1,)) / '(1,)type'.\n",
      "  _np_quint8 = np.dtype([(\"quint8\", np.uint8, 1)])\n",
      "/opt/anaconda3/lib/python3.7/site-packages/tensorboard/compat/tensorflow_stub/dtypes.py:543: FutureWarning: Passing (type, 1) or '1type' as a synonym of type is deprecated; in a future version of numpy, it will be understood as (type, (1,)) / '(1,)type'.\n",
      "  _np_qint16 = np.dtype([(\"qint16\", np.int16, 1)])\n",
      "/opt/anaconda3/lib/python3.7/site-packages/tensorboard/compat/tensorflow_stub/dtypes.py:544: FutureWarning: Passing (type, 1) or '1type' as a synonym of type is deprecated; in a future version of numpy, it will be understood as (type, (1,)) / '(1,)type'.\n",
      "  _np_quint16 = np.dtype([(\"quint16\", np.uint16, 1)])\n",
      "/opt/anaconda3/lib/python3.7/site-packages/tensorboard/compat/tensorflow_stub/dtypes.py:545: FutureWarning: Passing (type, 1) or '1type' as a synonym of type is deprecated; in a future version of numpy, it will be understood as (type, (1,)) / '(1,)type'.\n",
      "  _np_qint32 = np.dtype([(\"qint32\", np.int32, 1)])\n",
      "/opt/anaconda3/lib/python3.7/site-packages/tensorboard/compat/tensorflow_stub/dtypes.py:550: FutureWarning: Passing (type, 1) or '1type' as a synonym of type is deprecated; in a future version of numpy, it will be understood as (type, (1,)) / '(1,)type'.\n",
      "  np_resource = np.dtype([(\"resource\", np.ubyte, 1)])\n"
     ]
    }
   ],
   "source": [
    "import pandas as pd\n",
    "import numpy as np\n",
    "import matplotlib.pyplot as plt\n",
    "import matplotlib.image as mpimg\n",
    "import seaborn as sns\n",
    "%matplotlib inline\n",
    "\n",
    "np.random.seed(2)\n",
    "\n",
    "from sklearn.model_selection import train_test_split\n",
    "from sklearn.metrics import confusion_matrix\n",
    "import itertools\n",
    "\n",
    "from keras.utils.np_utils import to_categorical # convert to one-hot-encoding\n",
    "from keras.models import Sequential\n",
    "from keras.layers import Dense, Dropout, Flatten, Conv2D, MaxPooling2D\n",
    "from keras.optimizers import RMSprop\n",
    "from keras.preprocessing.image import ImageDataGenerator\n",
    "from keras.callbacks import ReduceLROnPlateau\n",
    "\n",
    "from sklearn.utils import shuffle\n",
    "\n",
    "import keras\n",
    "\n",
    "\n",
    "sns.set(style='white', context='notebook', palette='deep')"
   ]
  },
  {
   "cell_type": "code",
   "execution_count": 5,
   "metadata": {},
   "outputs": [],
   "source": [
    "train = pd.read_csv(\"input/train.csv\")\n",
    "test = pd.read_csv(\"input/test.csv\")"
   ]
  },
  {
   "cell_type": "markdown",
   "metadata": {},
   "source": [
    "#### Here, we are just setting the Y and X from the training dataset. "
   ]
  },
  {
   "cell_type": "code",
   "execution_count": 6,
   "metadata": {},
   "outputs": [
    {
     "data": {
      "text/plain": [
       "1    4684\n",
       "7    4401\n",
       "3    4351\n",
       "9    4188\n",
       "2    4177\n",
       "6    4137\n",
       "0    4132\n",
       "4    4072\n",
       "8    4063\n",
       "5    3795\n",
       "Name: label, dtype: int64"
      ]
     },
     "execution_count": 6,
     "metadata": {},
     "output_type": "execute_result"
    },
    {
     "data": {
      "image/png": "[encoded data removed]",
      "text/plain": [
       "<Figure size 432x288 with 1 Axes>"
      ]
     },
     "metadata": {},
     "output_type": "display_data"
    }
   ],
   "source": [
    "Y_train = train[\"label\"]\n",
    "\n",
    "# Drop 'label' column\n",
    "X_train = train.drop(labels = [\"label\"],axis = 1) \n",
    "\n",
    "sns.countplot(Y_train)\n",
    "\n",
    "Y_train.value_counts()"
   ]
  },
  {
   "cell_type": "markdown",
   "metadata": {},
   "source": [
    "#### Performing GrayScale Normalization"
   ]
  },
  {
   "cell_type": "code",
   "execution_count": 7,
   "metadata": {},
   "outputs": [],
   "source": [
    "X_train = X_train / 255.0\n",
    "test = test / 255.0"
   ]
  },
  {
   "cell_type": "code",
   "execution_count": 8,
   "metadata": {},
   "outputs": [],
   "source": [
    "X_train = X_train.values.reshape(-1,28,28,1)\n",
    "test = test.values.reshape(-1,28,28,1)"
   ]
  },
  {
   "cell_type": "code",
   "execution_count": 9,
   "metadata": {},
   "outputs": [],
   "source": [
    "Y_train = to_categorical(Y_train, num_classes = 10)"
   ]
  },
  {
   "cell_type": "code",
   "execution_count": 10,
   "metadata": {},
   "outputs": [
    {
     "data": {
      "image/png": "[encoded data removed]",
      "text/plain": [
       "<Figure size 432x288 with 1 Axes>"
      ]
     },
     "metadata": {},
     "output_type": "display_data"
    }
   ],
   "source": [
    "g = plt.imshow(X_train[0][:,:,0])"
   ]
  },
  {
   "cell_type": "code",
   "execution_count": 11,
   "metadata": {},
   "outputs": [],
   "source": [
    "X_train, X_val, Y_train, Y_val = train_test_split(X_train, Y_train, test_size = 0.1, random_state=42)"
   ]
  },
  {
   "cell_type": "markdown",
   "metadata": {},
   "source": [
    "### Building my own model + Data Augmentation"
   ]
  },
  {
   "cell_type": "markdown",
   "metadata": {},
   "source": [
    "#### Data Augmentation is the process of changing or adding noise to image"
   ]
  },
  {
   "cell_type": "code",
   "execution_count": 12,
   "metadata": {},
   "outputs": [],
   "source": [
    "# A helper function to create augmentation of images\n",
    "def augmentImages(images, multiple):\n",
    "    gen = ImageDataGenerator()\n",
    "    newImages = []\n",
    "    for _ in range(multiple):\n",
    "        for image in images:\n",
    "            transformedImage = gen.apply_transform(image, {'brightness': np.random.uniform(low = 0.5, high=0.99),\n",
    "                                                            'tx': np.random.random_integers(2),\n",
    "                                                            'ty': np.random.random_integers(2)})\n",
    "            newImages.append(transformedImage)\n",
    "    newImages = np.array(newImages)\n",
    "    return newImages"
   ]
  },
  {
   "cell_type": "code",
   "execution_count": 13,
   "metadata": {},
   "outputs": [
    {
     "name": "stdout",
     "output_type": "stream",
     "text": [
      "WARNING:tensorflow:From /opt/anaconda3/lib/python3.7/site-packages/keras/backend/tensorflow_backend.py:4070: The name tf.nn.max_pool is deprecated. Please use tf.nn.max_pool2d instead.\n",
      "\n"
     ]
    }
   ],
   "source": [
    "model = Sequential()\n",
    "model.add(Conv2D(16, (3,3), activation='relu', input_shape=(28,28,1)))\n",
    "model.add(Conv2D(32, (3,3), activation='relu'))\n",
    "model.add(MaxPooling2D(pool_size=(2,2)))\n",
    "model.add(Dropout(0.3))\n",
    "\n",
    "model.add(Conv2D(64, (2,2), activation='relu'))\n",
    "model.add(Conv2D(128,(2,2), activation ='relu'))\n",
    "model.add(MaxPooling2D(pool_size=(2,2)))\n",
    "model.add(Dropout(0.3))\n",
    "\n",
    "model.add(Flatten())\n",
    "model.add(Dense(512, activation='relu'))\n",
    "model.add(Dense(10, activation='softmax'))"
   ]
  },
  {
   "cell_type": "code",
   "execution_count": 14,
   "metadata": {},
   "outputs": [],
   "source": [
    "model.compile(optimizer=keras.optimizers.SGD(1e-3),\n",
    "              loss = 'categorical_crossentropy',\n",
    "              metrics=['accuracy']\n",
    "             )"
   ]
  },
  {
   "cell_type": "code",
   "execution_count": 15,
   "metadata": {},
   "outputs": [
    {
     "name": "stderr",
     "output_type": "stream",
     "text": [
      "/opt/anaconda3/lib/python3.7/site-packages/ipykernel_launcher.py:8: DeprecationWarning: This function is deprecated. Please call randint(1, 2 + 1) instead\n",
      "  \n",
      "/opt/anaconda3/lib/python3.7/site-packages/ipykernel_launcher.py:9: DeprecationWarning: This function is deprecated. Please call randint(1, 2 + 1) instead\n",
      "  if __name__ == '__main__':\n"
     ]
    }
   ],
   "source": [
    "newNumbers = augmentImages([X_train[0]],1)"
   ]
  },
  {
   "cell_type": "code",
   "execution_count": 16,
   "metadata": {},
   "outputs": [
    {
     "data": {
      "text/plain": [
       "<matplotlib.image.AxesImage at 0x7febc76b97d0>"
      ]
     },
     "execution_count": 16,
     "metadata": {},
     "output_type": "execute_result"
    },
    {
     "data": {
      "image/png": "[encoded data removed]",
      "text/plain": [
       "<Figure size 432x288 with 1 Axes>"
      ]
     },
     "metadata": {},
     "output_type": "display_data"
    }
   ],
   "source": [
    "plt.imshow(newNumbers.reshape(28,28))"
   ]
  },
  {
   "cell_type": "code",
   "execution_count": 17,
   "metadata": {},
   "outputs": [
    {
     "data": {
      "text/plain": [
       "<matplotlib.image.AxesImage at 0x7febc782eb90>"
      ]
     },
     "execution_count": 17,
     "metadata": {},
     "output_type": "execute_result"
    },
    {
     "data": {
      "image/png": "[encoded data removed]",
      "text/plain": [
       "<Figure size 432x288 with 1 Axes>"
      ]
     },
     "metadata": {},
     "output_type": "display_data"
    }
   ],
   "source": [
    "plt.imshow(X_train[0].reshape(28,28))"
   ]
  },
  {
   "cell_type": "code",
   "execution_count": 18,
   "metadata": {},
   "outputs": [
    {
     "name": "stderr",
     "output_type": "stream",
     "text": [
      "/opt/anaconda3/lib/python3.7/site-packages/ipykernel_launcher.py:8: DeprecationWarning: This function is deprecated. Please call randint(1, 2 + 1) instead\n",
      "  \n",
      "/opt/anaconda3/lib/python3.7/site-packages/ipykernel_launcher.py:9: DeprecationWarning: This function is deprecated. Please call randint(1, 2 + 1) instead\n",
      "  if __name__ == '__main__':\n"
     ]
    }
   ],
   "source": [
    "augmentPic = augmentImages(X_train,1)"
   ]
  },
  {
   "cell_type": "code",
   "execution_count": 19,
   "metadata": {},
   "outputs": [],
   "source": [
    "x_train, y_train = shuffle(X_train, Y_train)\n"
   ]
  },
  {
   "cell_type": "code",
   "execution_count": 20,
   "metadata": {},
   "outputs": [
    {
     "name": "stdout",
     "output_type": "stream",
     "text": [
      "WARNING:tensorflow:From /opt/anaconda3/lib/python3.7/site-packages/keras/backend/tensorflow_backend.py:422: The name tf.global_variables is deprecated. Please use tf.compat.v1.global_variables instead.\n",
      "\n",
      "Epoch 1/50\n",
      "37800/37800 [==============================] - 35s 929us/step - loss: 2.2655 - accuracy: 0.2398\n",
      "Epoch 2/50\n",
      "37800/37800 [==============================] - 34s 894us/step - loss: 1.5353 - accuracy: 0.5576\n",
      "Epoch 3/50\n",
      "37800/37800 [==============================] - 34s 897us/step - loss: 0.7070 - accuracy: 0.7683\n",
      "Epoch 4/50\n",
      "37800/37800 [==============================] - 34s 897us/step - loss: 0.5744 - accuracy: 0.8147\n",
      "Epoch 5/50\n",
      "37800/37800 [==============================] - 34s 911us/step - loss: 0.4961 - accuracy: 0.8414\n",
      "Epoch 6/50\n",
      "37800/37800 [==============================] - 34s 909us/step - loss: 0.4366 - accuracy: 0.8624\n",
      "Epoch 7/50\n",
      "37800/37800 [==============================] - 34s 909us/step - loss: 0.3908 - accuracy: 0.8764\n",
      "Epoch 8/50\n",
      "37800/37800 [==============================] - 34s 911us/step - loss: 0.3506 - accuracy: 0.8907\n",
      "Epoch 9/50\n",
      "37800/37800 [==============================] - 34s 910us/step - loss: 0.3127 - accuracy: 0.9026\n",
      "Epoch 10/50\n",
      "37800/37800 [==============================] - 34s 911us/step - loss: 0.2834 - accuracy: 0.9111\n",
      "Epoch 11/50\n",
      "37800/37800 [==============================] - 34s 911us/step - loss: 0.2559 - accuracy: 0.9229\n",
      "Epoch 12/50\n",
      "37800/37800 [==============================] - 35s 913us/step - loss: 0.2331 - accuracy: 0.9291\n",
      "Epoch 13/50\n",
      "37800/37800 [==============================] - 35s 915us/step - loss: 0.2133 - accuracy: 0.9344\n",
      "Epoch 14/50\n",
      "37800/37800 [==============================] - 35s 917us/step - loss: 0.1979 - accuracy: 0.9396\n",
      "Epoch 15/50\n",
      "37800/37800 [==============================] - 35s 921us/step - loss: 0.1864 - accuracy: 0.9415\n",
      "Epoch 16/50\n",
      "37800/37800 [==============================] - 35s 917us/step - loss: 0.1748 - accuracy: 0.9471\n",
      "Epoch 17/50\n",
      "37800/37800 [==============================] - 35s 920us/step - loss: 0.1683 - accuracy: 0.9483\n",
      "Epoch 18/50\n",
      "37800/37800 [==============================] - 35s 919us/step - loss: 0.1591 - accuracy: 0.9522\n",
      "Epoch 19/50\n",
      "37800/37800 [==============================] - 35s 918us/step - loss: 0.1510 - accuracy: 0.9538\n",
      "Epoch 20/50\n",
      "37800/37800 [==============================] - 35s 927us/step - loss: 0.1436 - accuracy: 0.9553\n",
      "Epoch 21/50\n",
      "37800/37800 [==============================] - 35s 927us/step - loss: 0.1371 - accuracy: 0.9584\n",
      "Epoch 22/50\n",
      "37800/37800 [==============================] - 35s 931us/step - loss: 0.1352 - accuracy: 0.9592\n",
      "Epoch 23/50\n",
      "37800/37800 [==============================] - 35s 934us/step - loss: 0.1302 - accuracy: 0.9593\n",
      "Epoch 24/50\n",
      "37800/37800 [==============================] - 35s 938us/step - loss: 0.1263 - accuracy: 0.9615\n",
      "Epoch 25/50\n",
      "37800/37800 [==============================] - 36s 939us/step - loss: 0.1226 - accuracy: 0.9615\n",
      "Epoch 26/50\n",
      "37800/37800 [==============================] - 36s 943us/step - loss: 0.1176 - accuracy: 0.9638\n",
      "Epoch 27/50\n",
      "37800/37800 [==============================] - 35s 933us/step - loss: 0.1133 - accuracy: 0.9642\n",
      "Epoch 28/50\n",
      "37800/37800 [==============================] - 35s 936us/step - loss: 0.1121 - accuracy: 0.9646\n",
      "Epoch 29/50\n",
      "37800/37800 [==============================] - 35s 939us/step - loss: 0.1078 - accuracy: 0.9668\n",
      "Epoch 30/50\n",
      "37800/37800 [==============================] - 36s 940us/step - loss: 0.1054 - accuracy: 0.9668\n",
      "Epoch 31/50\n",
      "37800/37800 [==============================] - 36s 941us/step - loss: 0.1035 - accuracy: 0.9676\n",
      "Epoch 32/50\n",
      "37800/37800 [==============================] - 35s 938us/step - loss: 0.1035 - accuracy: 0.9678\n",
      "Epoch 33/50\n",
      "37800/37800 [==============================] - 35s 939us/step - loss: 0.0984 - accuracy: 0.9697\n",
      "Epoch 34/50\n",
      "37800/37800 [==============================] - 36s 944us/step - loss: 0.0967 - accuracy: 0.9702\n",
      "Epoch 35/50\n",
      "37800/37800 [==============================] - 36s 940us/step - loss: 0.0952 - accuracy: 0.9703\n",
      "Epoch 36/50\n",
      "37800/37800 [==============================] - 35s 938us/step - loss: 0.0939 - accuracy: 0.9706\n",
      "Epoch 37/50\n",
      "37800/37800 [==============================] - 36s 940us/step - loss: 0.0956 - accuracy: 0.9697\n",
      "Epoch 38/50\n",
      "37800/37800 [==============================] - 35s 939us/step - loss: 0.0895 - accuracy: 0.9720\n",
      "Epoch 39/50\n",
      "37800/37800 [==============================] - 36s 940us/step - loss: 0.0873 - accuracy: 0.9733\n",
      "Epoch 40/50\n",
      "37800/37800 [==============================] - 36s 941us/step - loss: 0.0867 - accuracy: 0.9730\n",
      "Epoch 41/50\n",
      "37800/37800 [==============================] - 36s 948us/step - loss: 0.0849 - accuracy: 0.9728\n",
      "Epoch 42/50\n",
      "37800/37800 [==============================] - 36s 940us/step - loss: 0.0825 - accuracy: 0.9740\n",
      "Epoch 43/50\n",
      "37800/37800 [==============================] - 35s 939us/step - loss: 0.0820 - accuracy: 0.9745\n",
      "Epoch 44/50\n",
      "37800/37800 [==============================] - 36s 940us/step - loss: 0.0808 - accuracy: 0.9747\n",
      "Epoch 45/50\n",
      "37800/37800 [==============================] - 36s 940us/step - loss: 0.0810 - accuracy: 0.9739\n",
      "Epoch 46/50\n",
      "37800/37800 [==============================] - 36s 941us/step - loss: 0.0791 - accuracy: 0.9753\n",
      "Epoch 47/50\n",
      "37800/37800 [==============================] - 36s 941us/step - loss: 0.0776 - accuracy: 0.9753\n",
      "Epoch 48/50\n",
      "37800/37800 [==============================] - 36s 944us/step - loss: 0.0775 - accuracy: 0.9758\n",
      "Epoch 49/50\n",
      "37800/37800 [==============================] - 36s 939us/step - loss: 0.0770 - accuracy: 0.9758\n",
      "Epoch 50/50\n",
      "37800/37800 [==============================] - 35s 939us/step - loss: 0.0741 - accuracy: 0.9765\n"
     ]
    },
    {
     "data": {
      "text/plain": [
       "<keras.callbacks.callbacks.History at 0x7febc7ad3610>"
      ]
     },
     "execution_count": 20,
     "metadata": {},
     "output_type": "execute_result"
    }
   ],
   "source": [
    "model.fit(x_train, y_train, batch_size = 32, epochs=50)"
   ]
  },
  {
   "cell_type": "code",
   "execution_count": 21,
   "metadata": {},
   "outputs": [
    {
     "name": "stdout",
     "output_type": "stream",
     "text": [
      "Test loss: 0.05846382131844404\n",
      "Test accuracy 0.9809523820877075\n"
     ]
    }
   ],
   "source": [
    "score = model.evaluate(X_val, Y_val, verbose = 0)\n",
    "print('Test loss:', score[0])\n",
    "print('Test accuracy', score[1])"
   ]
  },
  {
   "cell_type": "code",
   "execution_count": null,
   "metadata": {},
   "outputs": [],
   "source": []
  },
  {
   "cell_type": "code",
   "execution_count": null,
   "metadata": {},
   "outputs": [],
   "source": []
  }
 ],
 "metadata": {
  "kernelspec": {
   "display_name": "Python 3",
   "language": "python",
   "name": "python3"
  },
  "language_info": {
   "codemirror_mode": {
    "name": "ipython",
    "version": 3
   },
   "file_extension": ".py",
   "mimetype": "text/x-python",
   "name": "python",
   "nbconvert_exporter": "python",
   "pygments_lexer": "ipython3",
   "version": "3.7.6"
  }
 },
 "nbformat": 4,
 "nbformat_minor": 4
}
