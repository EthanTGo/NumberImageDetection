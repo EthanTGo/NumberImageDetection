{
 "cells": [
  {
   "cell_type": "code",
   "execution_count": 1,
   "metadata": {
    "_cell_guid": "b1076dfc-b9ad-4769-8c92-a6c4dae69d19",
    "_uuid": "8f2839f25d086af736a60e9eeb907d3b93b6e0e5"
   },
   "outputs": [],
   "source": [
    "import numpy as np # linear algebra\n",
    "import pandas as pd # data processing, CSV file I/O (e.g. pd.read_csv)"
   ]
  },
  {
   "cell_type": "code",
   "execution_count": 2,
   "metadata": {
    "_cell_guid": "79c7e3d0-c299-4dcb-8224-4455121ee9b0",
    "_uuid": "d629ff2d2480ee46fbb7e2d37f6b5fab8052498a"
   },
   "outputs": [
    {
     "name": "stderr",
     "output_type": "stream",
     "text": [
      "Using TensorFlow backend.\n",
      "/opt/anaconda3/lib/python3.7/site-packages/tensorflow/python/framework/dtypes.py:516: FutureWarning: Passing (type, 1) or '1type' as a synonym of type is deprecated; in a future version of numpy, it will be understood as (type, (1,)) / '(1,)type'.\n",
      "  _np_qint8 = np.dtype([(\"qint8\", np.int8, 1)])\n",
      "/opt/anaconda3/lib/python3.7/site-packages/tensorflow/python/framework/dtypes.py:517: FutureWarning: Passing (type, 1) or '1type' as a synonym of type is deprecated; in a future version of numpy, it will be understood as (type, (1,)) / '(1,)type'.\n",
      "  _np_quint8 = np.dtype([(\"quint8\", np.uint8, 1)])\n",
      "/opt/anaconda3/lib/python3.7/site-packages/tensorflow/python/framework/dtypes.py:518: FutureWarning: Passing (type, 1) or '1type' as a synonym of type is deprecated; in a future version of numpy, it will be understood as (type, (1,)) / '(1,)type'.\n",
      "  _np_qint16 = np.dtype([(\"qint16\", np.int16, 1)])\n",
      "/opt/anaconda3/lib/python3.7/site-packages/tensorflow/python/framework/dtypes.py:519: FutureWarning: Passing (type, 1) or '1type' as a synonym of type is deprecated; in a future version of numpy, it will be understood as (type, (1,)) / '(1,)type'.\n",
      "  _np_quint16 = np.dtype([(\"quint16\", np.uint16, 1)])\n",
      "/opt/anaconda3/lib/python3.7/site-packages/tensorflow/python/framework/dtypes.py:520: FutureWarning: Passing (type, 1) or '1type' as a synonym of type is deprecated; in a future version of numpy, it will be understood as (type, (1,)) / '(1,)type'.\n",
      "  _np_qint32 = np.dtype([(\"qint32\", np.int32, 1)])\n",
      "/opt/anaconda3/lib/python3.7/site-packages/tensorflow/python/framework/dtypes.py:525: FutureWarning: Passing (type, 1) or '1type' as a synonym of type is deprecated; in a future version of numpy, it will be understood as (type, (1,)) / '(1,)type'.\n",
      "  np_resource = np.dtype([(\"resource\", np.ubyte, 1)])\n",
      "/opt/anaconda3/lib/python3.7/site-packages/tensorboard/compat/tensorflow_stub/dtypes.py:541: FutureWarning: Passing (type, 1) or '1type' as a synonym of type is deprecated; in a future version of numpy, it will be understood as (type, (1,)) / '(1,)type'.\n",
      "  _np_qint8 = np.dtype([(\"qint8\", np.int8, 1)])\n",
      "/opt/anaconda3/lib/python3.7/site-packages/tensorboard/compat/tensorflow_stub/dtypes.py:542: FutureWarning: Passing (type, 1) or '1type' as a synonym of type is deprecated; in a future version of numpy, it will be understood as (type, (1,)) / '(1,)type'.\n",
      "  _np_quint8 = np.dtype([(\"quint8\", np.uint8, 1)])\n",
      "/opt/anaconda3/lib/python3.7/site-packages/tensorboard/compat/tensorflow_stub/dtypes.py:543: FutureWarning: Passing (type, 1) or '1type' as a synonym of type is deprecated; in a future version of numpy, it will be understood as (type, (1,)) / '(1,)type'.\n",
      "  _np_qint16 = np.dtype([(\"qint16\", np.int16, 1)])\n",
      "/opt/anaconda3/lib/python3.7/site-packages/tensorboard/compat/tensorflow_stub/dtypes.py:544: FutureWarning: Passing (type, 1) or '1type' as a synonym of type is deprecated; in a future version of numpy, it will be understood as (type, (1,)) / '(1,)type'.\n",
      "  _np_quint16 = np.dtype([(\"quint16\", np.uint16, 1)])\n",
      "/opt/anaconda3/lib/python3.7/site-packages/tensorboard/compat/tensorflow_stub/dtypes.py:545: FutureWarning: Passing (type, 1) or '1type' as a synonym of type is deprecated; in a future version of numpy, it will be understood as (type, (1,)) / '(1,)type'.\n",
      "  _np_qint32 = np.dtype([(\"qint32\", np.int32, 1)])\n",
      "/opt/anaconda3/lib/python3.7/site-packages/tensorboard/compat/tensorflow_stub/dtypes.py:550: FutureWarning: Passing (type, 1) or '1type' as a synonym of type is deprecated; in a future version of numpy, it will be understood as (type, (1,)) / '(1,)type'.\n",
      "  np_resource = np.dtype([(\"resource\", np.ubyte, 1)])\n"
     ]
    }
   ],
   "source": [
    "import pandas as pd\n",
    "import numpy as np\n",
    "import matplotlib.pyplot as plt\n",
    "import matplotlib.image as mpimg\n",
    "import seaborn as sns\n",
    "%matplotlib inline\n",
    "\n",
    "np.random.seed(2)\n",
    "\n",
    "from sklearn.model_selection import train_test_split\n",
    "from sklearn.metrics import confusion_matrix\n",
    "import itertools\n",
    "\n",
    "from keras.utils.np_utils import to_categorical # convert to one-hot-encoding\n",
    "from keras.models import Sequential\n",
    "from keras.layers import Dense, Dropout, Flatten, Conv2D, MaxPooling2D\n",
    "from keras.optimizers import RMSprop\n",
    "from keras.preprocessing.image import ImageDataGenerator\n",
    "from keras.callbacks import ReduceLROnPlateau\n",
    "\n",
    "from sklearn.utils import shuffle\n",
    "\n",
    "import keras\n",
    "\n",
    "\n",
    "sns.set(style='white', context='notebook', palette='deep')"
   ]
  },
  {
   "cell_type": "code",
   "execution_count": 3,
   "metadata": {},
   "outputs": [],
   "source": [
    "train = pd.read_csv(\"input/train.csv\")\n",
    "test = pd.read_csv(\"input/test.csv\")"
   ]
  },
  {
   "cell_type": "markdown",
   "metadata": {},
   "source": [
    "#### Here, we are just setting the Y and X from the training dataset. "
   ]
  },
  {
   "cell_type": "code",
   "execution_count": 4,
   "metadata": {},
   "outputs": [
    {
     "data": {
      "text/plain": [
       "1    4684\n",
       "7    4401\n",
       "3    4351\n",
       "9    4188\n",
       "2    4177\n",
       "6    4137\n",
       "0    4132\n",
       "4    4072\n",
       "8    4063\n",
       "5    3795\n",
       "Name: label, dtype: int64"
      ]
     },
     "execution_count": 4,
     "metadata": {},
     "output_type": "execute_result"
    },
    {
     "data": {
      "image/png": "[encoded data removed]",
      "text/plain": [
       "<Figure size 432x288 with 1 Axes>"
      ]
     },
     "metadata": {},
     "output_type": "display_data"
    }
   ],
   "source": [
    "Y_train = train[\"label\"]\n",
    "\n",
    "# Drop 'label' column\n",
    "X_train = train.drop(labels = [\"label\"],axis = 1) \n",
    "\n",
    "sns.countplot(Y_train)\n",
    "\n",
    "Y_train.value_counts()"
   ]
  },
  {
   "cell_type": "markdown",
   "metadata": {},
   "source": [
    "#### Performing GrayScale Normalization"
   ]
  },
  {
   "cell_type": "code",
   "execution_count": 5,
   "metadata": {},
   "outputs": [],
   "source": [
    "X_train = X_train / 255.0\n",
    "test = test / 255.0"
   ]
  },
  {
   "cell_type": "code",
   "execution_count": 6,
   "metadata": {},
   "outputs": [],
   "source": [
    "X_train = X_train.values.reshape(-1,28,28,1)\n",
    "test = test.values.reshape(-1,28,28,1)"
   ]
  },
  {
   "cell_type": "code",
   "execution_count": 7,
   "metadata": {},
   "outputs": [],
   "source": [
    "Y_train = to_categorical(Y_train, num_classes = 10)"
   ]
  },
  {
   "cell_type": "code",
   "execution_count": 8,
   "metadata": {},
   "outputs": [
    {
     "data": {
      "image/png": "[encoded data removed]",
      "text/plain": [
       "<Figure size 432x288 with 1 Axes>"
      ]
     },
     "metadata": {},
     "output_type": "display_data"
    }
   ],
   "source": [
    "g = plt.imshow(X_train[0][:,:,0])"
   ]
  },
  {
   "cell_type": "code",
   "execution_count": 9,
   "metadata": {},
   "outputs": [],
   "source": [
    "X_train, X_val, Y_train, Y_val = train_test_split(X_train, Y_train, test_size = 0.1, random_state=42)"
   ]
  },
  {
   "cell_type": "markdown",
   "metadata": {},
   "source": [
    "### Building my own model + Data Augmentation"
   ]
  },
  {
   "cell_type": "markdown",
   "metadata": {},
   "source": [
    "#### Data Augmentation is the process of changing or adding noise to image. This could be rotating, or shifting the images. Essentially adding noise allows for the data to be better prepared. We have to be careful with some image augmentation process such as rotation as this can cause confusion between the numbers 6 and 9. Here context means a lot. "
   ]
  },
  {
   "cell_type": "code",
   "execution_count": 10,
   "metadata": {},
   "outputs": [],
   "source": [
    "# A helper function to create augmentation of images\n",
    "def augmentImages(images, multiple):\n",
    "    gen = ImageDataGenerator()\n",
    "    newImages = []\n",
    "    for _ in range(multiple):\n",
    "        for image in images:\n",
    "            transformedImage = gen.apply_transform(image, {'brightness': np.random.uniform(low = 0.5, high=0.99),\n",
    "                                                            'tx': np.random.random_integers(2),\n",
    "                                                            'ty': np.random.random_integers(2)})\n",
    "            newImages.append(transformedImage)\n",
    "    newImages = np.array(newImages)\n",
    "    return newImages"
   ]
  },
  {
   "cell_type": "markdown",
   "metadata": {},
   "source": [
    "### Deep Learning Model"
   ]
  },
  {
   "cell_type": "markdown",
   "metadata": {},
   "source": [
    "#### In special cases such as image detection we have a base layer, (which soles purpose is to detect features in an image). These are the layers with Conv2D and MaxPoooling2D. These layers extract certain features from the data.\n",
    "\n",
    "#### The convolution filters an image. The activation relu is used to detect that feature with in the filtered image. Finally, maxpooling condenses the image layer to enhance the features. \n",
    "\n",
    "#### The 3 step as summarized are:\n",
    "\n",
    "##### 1. Conv2D -> Convolutions (Filters the image)\n",
    "\n",
    "##### 2. Relu -> Detect feature\n",
    "\n",
    "##### 3. MaxPooling2D -> Enhances the features"
   ]
  },
  {
   "cell_type": "markdown",
   "metadata": {},
   "source": [
    "#### For this project I'm going to experiment with different model to see how performance would vary."
   ]
  },
  {
   "cell_type": "code",
   "execution_count": 27,
   "metadata": {},
   "outputs": [],
   "source": [
    "model = Sequential()\n",
    "\n",
    "# Base: This is where we apply the 3 feature detection steps above\n",
    "model.add(Conv2D(16, (3,3), activation='relu', input_shape=(28,28,1)))\n",
    "model.add(Conv2D(32, (3,3), activation='relu'))\n",
    "model.add(MaxPooling2D(pool_size=(2,2)))\n",
    "model.add(Dropout(0.3))\n",
    "\n",
    "model.add(Conv2D(64, (2,2), activation='relu'))\n",
    "model.add(Conv2D(128,(2,2), activation ='relu'))\n",
    "model.add(MaxPooling2D(pool_size=(2,2)))\n",
    "model.add(Dropout(0.3))\n",
    "\n",
    "# Head: Thisi s where we identify the class of the image\n",
    "model.add(Flatten())\n",
    "model.add(Dense(512, activation='relu'))\n",
    "model.add(Dense(10, activation='softmax'))"
   ]
  },
  {
   "cell_type": "code",
   "execution_count": 16,
   "metadata": {},
   "outputs": [],
   "source": [
    "model2 = Sequential()\n",
    "\n",
    "# Base: This is where we apply the 3 feature detection steps above\n",
    "model2.add(Conv2D(16, (3,3), activation='relu', input_shape=(28,28,1)))\n",
    "model2.add(Conv2D(32, (2,2), activation='relu'))\n",
    "model2.add(MaxPooling2D(pool_size=(2,2)))\n",
    "model2.add(Dropout(0.3))\n",
    "\n",
    "\n",
    "# Head: Thisi s where we identify the class of the image\n",
    "model2.add(Flatten())\n",
    "model2.add(Dense(512, activation='relu'))\n",
    "model2.add(Dense(10, activation='softmax'))"
   ]
  },
  {
   "cell_type": "code",
   "execution_count": 17,
   "metadata": {},
   "outputs": [],
   "source": [
    "model3 = Sequential()\n",
    "\n",
    "# Base: This is where we apply the 3 feature detection steps above\n",
    "model3.add(Conv2D(8, (2,2), activation='relu', input_shape=(28,28,1)))\n",
    "model3.add(Conv2D(16, (2,2), activation='relu'))\n",
    "model3.add(MaxPooling2D(pool_size=(2,2)))\n",
    "model3.add(Dropout(0.3))\n",
    "\n",
    "model3.add(Conv2D(32, (2,2), activation='relu'))\n",
    "model3.add(Conv2D(64,(2,2), activation ='relu'))\n",
    "model3.add(MaxPooling2D(pool_size=(2,2)))\n",
    "model3.add(Dropout(0.3))\n",
    "\n",
    "# Head: Thisi s where we identify the class of the image\n",
    "model3.add(Flatten())\n",
    "model3.add(Dense(100, activation='relu'))\n",
    "model3.add(Dense(10, activation='softmax'))"
   ]
  },
  {
   "cell_type": "markdown",
   "metadata": {},
   "source": [
    "#### After defining the model, the next step is to compile and define optimizers. These include the loss functions and optimizers. The loss function defines how the model should be trained. The optimizers are the ways the model will use to improve it's loss function. We also have metrics = ['accuracy] which essentially is a parameters that tells the model to print the accuracy every epoch iteration."
   ]
  },
  {
   "cell_type": "code",
   "execution_count": 29,
   "metadata": {},
   "outputs": [],
   "source": [
    "from keras.callbacks import EarlyStopping\n",
    "\n",
    "early_stopping_monitor = EarlyStopping(patience=2)\n",
    "\n",
    "model.compile(optimizer=keras.optimizers.SGD(1e-3),\n",
    "              loss = 'categorical_crossentropy',\n",
    "              metrics=['accuracy']\n",
    "             )\n",
    "\n",
    "model2.compile(optimizer=keras.optimizers.SGD(1e-3),\n",
    "              loss = 'categorical_crossentropy',\n",
    "              metrics=['accuracy']\n",
    "             )\n",
    "\n",
    "model3.compile(optimizer=keras.optimizers.SGD(1e-3),\n",
    "              loss = 'categorical_crossentropy',\n",
    "              metrics=['accuracy']\n",
    "             )"
   ]
  },
  {
   "cell_type": "code",
   "execution_count": 19,
   "metadata": {},
   "outputs": [
    {
     "name": "stderr",
     "output_type": "stream",
     "text": [
      "/opt/anaconda3/lib/python3.7/site-packages/ipykernel_launcher.py:8: DeprecationWarning: This function is deprecated. Please call randint(1, 2 + 1) instead\n",
      "  \n",
      "/opt/anaconda3/lib/python3.7/site-packages/ipykernel_launcher.py:9: DeprecationWarning: This function is deprecated. Please call randint(1, 2 + 1) instead\n",
      "  if __name__ == '__main__':\n"
     ]
    }
   ],
   "source": [
    "newNumbers = augmentImages([X_train[0]],1)"
   ]
  },
  {
   "cell_type": "code",
   "execution_count": 20,
   "metadata": {},
   "outputs": [
    {
     "data": {
      "text/plain": [
       "<matplotlib.image.AxesImage at 0x7f9009d225d0>"
      ]
     },
     "execution_count": 20,
     "metadata": {},
     "output_type": "execute_result"
    },
    {
     "data": {
      "image/png": "[encoded data removed]",
      "text/plain": [
       "<Figure size 432x288 with 1 Axes>"
      ]
     },
     "metadata": {},
     "output_type": "display_data"
    }
   ],
   "source": [
    "plt.imshow(newNumbers.reshape(28,28))"
   ]
  },
  {
   "cell_type": "code",
   "execution_count": 21,
   "metadata": {},
   "outputs": [
    {
     "data": {
      "text/plain": [
       "<matplotlib.image.AxesImage at 0x7f9009e64890>"
      ]
     },
     "execution_count": 21,
     "metadata": {},
     "output_type": "execute_result"
    },
    {
     "data": {
      "image/png": "[encoded data removed]",
      "text/plain": [
       "<Figure size 432x288 with 1 Axes>"
      ]
     },
     "metadata": {},
     "output_type": "display_data"
    }
   ],
   "source": [
    "plt.imshow(X_train[0].reshape(28,28))"
   ]
  },
  {
   "cell_type": "code",
   "execution_count": 22,
   "metadata": {},
   "outputs": [
    {
     "name": "stderr",
     "output_type": "stream",
     "text": [
      "/opt/anaconda3/lib/python3.7/site-packages/ipykernel_launcher.py:8: DeprecationWarning: This function is deprecated. Please call randint(1, 2 + 1) instead\n",
      "  \n",
      "/opt/anaconda3/lib/python3.7/site-packages/ipykernel_launcher.py:9: DeprecationWarning: This function is deprecated. Please call randint(1, 2 + 1) instead\n",
      "  if __name__ == '__main__':\n"
     ]
    }
   ],
   "source": [
    "augmentPic = augmentImages(X_train,1)"
   ]
  },
  {
   "cell_type": "markdown",
   "metadata": {},
   "source": [
    "#### Shuffling the data is always good practice! "
   ]
  },
  {
   "cell_type": "code",
   "execution_count": 23,
   "metadata": {},
   "outputs": [],
   "source": [
    "x_train, y_train = shuffle(X_train, Y_train)"
   ]
  },
  {
   "cell_type": "code",
   "execution_count": 30,
   "metadata": {},
   "outputs": [
    {
     "name": "stdout",
     "output_type": "stream",
     "text": [
      "WARNING:tensorflow:From /opt/anaconda3/lib/python3.7/site-packages/keras/backend/tensorflow_backend.py:422: The name tf.global_variables is deprecated. Please use tf.compat.v1.global_variables instead.\n",
      "\n",
      "Train on 22680 samples, validate on 15120 samples\n",
      "Epoch 1/50\n",
      "22680/22680 [==============================] - 25s 1ms/step - loss: 2.2921 - accuracy: 0.1395 - val_loss: 2.2769 - val_accuracy: 0.3238\n",
      "Epoch 2/50\n",
      "22680/22680 [==============================] - 24s 1ms/step - loss: 2.2549 - accuracy: 0.2618 - val_loss: 2.2186 - val_accuracy: 0.5608\n",
      "Epoch 3/50\n",
      "22680/22680 [==============================] - 25s 1ms/step - loss: 2.0751 - accuracy: 0.4570 - val_loss: 1.6993 - val_accuracy: 0.6722\n",
      "Epoch 4/50\n",
      "22680/22680 [==============================] - 24s 1ms/step - loss: 1.1081 - accuracy: 0.6663 - val_loss: 0.6230 - val_accuracy: 0.8243\n",
      "Epoch 5/50\n",
      "22680/22680 [==============================] - 25s 1ms/step - loss: 0.7057 - accuracy: 0.7713 - val_loss: 0.4919 - val_accuracy: 0.8552\n",
      "Epoch 6/50\n",
      "22680/22680 [==============================] - 24s 1ms/step - loss: 0.6062 - accuracy: 0.8028 - val_loss: 0.4458 - val_accuracy: 0.8630\n",
      "Epoch 7/50\n",
      "22680/22680 [==============================] - 25s 1ms/step - loss: 0.5381 - accuracy: 0.8274 - val_loss: 0.3993 - val_accuracy: 0.8831\n",
      "Epoch 8/50\n",
      "22680/22680 [==============================] - 25s 1ms/step - loss: 0.4966 - accuracy: 0.8422 - val_loss: 0.3602 - val_accuracy: 0.8945\n",
      "Epoch 9/50\n",
      "22680/22680 [==============================] - 25s 1ms/step - loss: 0.4567 - accuracy: 0.8568 - val_loss: 0.3514 - val_accuracy: 0.8935\n",
      "Epoch 10/50\n",
      "22680/22680 [==============================] - 25s 1ms/step - loss: 0.4294 - accuracy: 0.8631 - val_loss: 0.3082 - val_accuracy: 0.9132\n",
      "Epoch 11/50\n",
      "22680/22680 [==============================] - 25s 1ms/step - loss: 0.3964 - accuracy: 0.8746 - val_loss: 0.3073 - val_accuracy: 0.9068\n",
      "Epoch 12/50\n",
      "22680/22680 [==============================] - 25s 1ms/step - loss: 0.3696 - accuracy: 0.8825 - val_loss: 0.2675 - val_accuracy: 0.9233\n",
      "Epoch 13/50\n",
      "22680/22680 [==============================] - 25s 1ms/step - loss: 0.3452 - accuracy: 0.8914 - val_loss: 0.2636 - val_accuracy: 0.9231\n",
      "Epoch 14/50\n",
      "22680/22680 [==============================] - 25s 1ms/step - loss: 0.3201 - accuracy: 0.9006 - val_loss: 0.2393 - val_accuracy: 0.9304\n",
      "Epoch 15/50\n",
      "22680/22680 [==============================] - 25s 1ms/step - loss: 0.3020 - accuracy: 0.9065 - val_loss: 0.2238 - val_accuracy: 0.9353\n",
      "Epoch 16/50\n",
      "22680/22680 [==============================] - 25s 1ms/step - loss: 0.2804 - accuracy: 0.9139 - val_loss: 0.2073 - val_accuracy: 0.9397\n",
      "Epoch 17/50\n",
      "22680/22680 [==============================] - 25s 1ms/step - loss: 0.2612 - accuracy: 0.9180 - val_loss: 0.1911 - val_accuracy: 0.9438\n",
      "Epoch 18/50\n",
      "22680/22680 [==============================] - 25s 1ms/step - loss: 0.2498 - accuracy: 0.9216 - val_loss: 0.1882 - val_accuracy: 0.9446\n",
      "Epoch 19/50\n",
      "22680/22680 [==============================] - 25s 1ms/step - loss: 0.2360 - accuracy: 0.9268 - val_loss: 0.1728 - val_accuracy: 0.9492\n",
      "Epoch 20/50\n",
      "22680/22680 [==============================] - 25s 1ms/step - loss: 0.2205 - accuracy: 0.9332 - val_loss: 0.1742 - val_accuracy: 0.9464\n",
      "Epoch 21/50\n",
      "22680/22680 [==============================] - 25s 1ms/step - loss: 0.2093 - accuracy: 0.9345 - val_loss: 0.1516 - val_accuracy: 0.9549\n",
      "Epoch 22/50\n",
      "22680/22680 [==============================] - 25s 1ms/step - loss: 0.2033 - accuracy: 0.9381 - val_loss: 0.1478 - val_accuracy: 0.9558\n",
      "Epoch 23/50\n",
      "22680/22680 [==============================] - 25s 1ms/step - loss: 0.1913 - accuracy: 0.9421 - val_loss: 0.1438 - val_accuracy: 0.9564\n",
      "Epoch 24/50\n",
      "22680/22680 [==============================] - 25s 1ms/step - loss: 0.1823 - accuracy: 0.9448 - val_loss: 0.1398 - val_accuracy: 0.9581\n",
      "Epoch 25/50\n",
      "22680/22680 [==============================] - 25s 1ms/step - loss: 0.1767 - accuracy: 0.9459 - val_loss: 0.1329 - val_accuracy: 0.9616\n",
      "Epoch 26/50\n",
      "22680/22680 [==============================] - 25s 1ms/step - loss: 0.1675 - accuracy: 0.9485 - val_loss: 0.1252 - val_accuracy: 0.9635\n",
      "Epoch 27/50\n",
      "22680/22680 [==============================] - 25s 1ms/step - loss: 0.1603 - accuracy: 0.9514 - val_loss: 0.1195 - val_accuracy: 0.9653\n",
      "Epoch 28/50\n",
      "22680/22680 [==============================] - 25s 1ms/step - loss: 0.1523 - accuracy: 0.9538 - val_loss: 0.1177 - val_accuracy: 0.9649\n",
      "Epoch 29/50\n",
      "22680/22680 [==============================] - 25s 1ms/step - loss: 0.1526 - accuracy: 0.9537 - val_loss: 0.1175 - val_accuracy: 0.9647\n",
      "Epoch 30/50\n",
      "22680/22680 [==============================] - 25s 1ms/step - loss: 0.1470 - accuracy: 0.9559 - val_loss: 0.1122 - val_accuracy: 0.9673\n",
      "Epoch 31/50\n",
      "22680/22680 [==============================] - 25s 1ms/step - loss: 0.1431 - accuracy: 0.9543 - val_loss: 0.1075 - val_accuracy: 0.9678\n",
      "Epoch 32/50\n",
      "22680/22680 [==============================] - 25s 1ms/step - loss: 0.1368 - accuracy: 0.9581 - val_loss: 0.1080 - val_accuracy: 0.9678\n",
      "Epoch 33/50\n",
      "22680/22680 [==============================] - 25s 1ms/step - loss: 0.1341 - accuracy: 0.9582 - val_loss: 0.1008 - val_accuracy: 0.9704\n",
      "Epoch 34/50\n",
      "22680/22680 [==============================] - 25s 1ms/step - loss: 0.1306 - accuracy: 0.9596 - val_loss: 0.0997 - val_accuracy: 0.9702\n",
      "Epoch 35/50\n",
      "22680/22680 [==============================] - 25s 1ms/step - loss: 0.1278 - accuracy: 0.9604 - val_loss: 0.0979 - val_accuracy: 0.9706\n",
      "Epoch 36/50\n",
      "22680/22680 [==============================] - 25s 1ms/step - loss: 0.1231 - accuracy: 0.9624 - val_loss: 0.0952 - val_accuracy: 0.9711\n",
      "Epoch 37/50\n",
      "22680/22680 [==============================] - 25s 1ms/step - loss: 0.1227 - accuracy: 0.9623 - val_loss: 0.0932 - val_accuracy: 0.9713\n",
      "Epoch 38/50\n",
      "22680/22680 [==============================] - 25s 1ms/step - loss: 0.1201 - accuracy: 0.9627 - val_loss: 0.0932 - val_accuracy: 0.9716\n",
      "Epoch 39/50\n",
      "22680/22680 [==============================] - 25s 1ms/step - loss: 0.1173 - accuracy: 0.9639 - val_loss: 0.0898 - val_accuracy: 0.9730\n",
      "Epoch 40/50\n",
      "22680/22680 [==============================] - 25s 1ms/step - loss: 0.1128 - accuracy: 0.9654 - val_loss: 0.0909 - val_accuracy: 0.9719\n",
      "Epoch 41/50\n",
      "22680/22680 [==============================] - 25s 1ms/step - loss: 0.1135 - accuracy: 0.9653 - val_loss: 0.0867 - val_accuracy: 0.9744\n",
      "Epoch 42/50\n",
      "22680/22680 [==============================] - 25s 1ms/step - loss: 0.1072 - accuracy: 0.9662 - val_loss: 0.0879 - val_accuracy: 0.9728\n",
      "Epoch 43/50\n",
      "22680/22680 [==============================] - 25s 1ms/step - loss: 0.1095 - accuracy: 0.9675 - val_loss: 0.0842 - val_accuracy: 0.9747\n",
      "Epoch 44/50\n",
      "22680/22680 [==============================] - 25s 1ms/step - loss: 0.1067 - accuracy: 0.9671 - val_loss: 0.0828 - val_accuracy: 0.9749\n",
      "Epoch 45/50\n",
      "22680/22680 [==============================] - 25s 1ms/step - loss: 0.1044 - accuracy: 0.9680 - val_loss: 0.0813 - val_accuracy: 0.9752\n",
      "Epoch 46/50\n",
      "22680/22680 [==============================] - 25s 1ms/step - loss: 0.1062 - accuracy: 0.9676 - val_loss: 0.0804 - val_accuracy: 0.9758\n",
      "Epoch 47/50\n",
      "22680/22680 [==============================] - 25s 1ms/step - loss: 0.1009 - accuracy: 0.9686 - val_loss: 0.0812 - val_accuracy: 0.9748\n",
      "Epoch 48/50\n",
      "22680/22680 [==============================] - 25s 1ms/step - loss: 0.1010 - accuracy: 0.9686 - val_loss: 0.0795 - val_accuracy: 0.9763\n",
      "Epoch 49/50\n",
      "22680/22680 [==============================] - 25s 1ms/step - loss: 0.0975 - accuracy: 0.9701 - val_loss: 0.0774 - val_accuracy: 0.9772\n",
      "Epoch 50/50\n",
      "22680/22680 [==============================] - 25s 1ms/step - loss: 0.0973 - accuracy: 0.9701 - val_loss: 0.0765 - val_accuracy: 0.9771\n"
     ]
    },
    {
     "data": {
      "text/plain": [
       "<keras.callbacks.callbacks.History at 0x7f8ff7b1de10>"
      ]
     },
     "execution_count": 30,
     "metadata": {},
     "output_type": "execute_result"
    }
   ],
   "source": [
    "model.fit(x_train, y_train, batch_size = 32, epochs=50, validation_split=0.4, callbacks=[early_stopping_monitor])"
   ]
  },
  {
   "cell_type": "code",
   "execution_count": 31,
   "metadata": {
    "scrolled": false
   },
   "outputs": [
    {
     "name": "stdout",
     "output_type": "stream",
     "text": [
      "Train on 22680 samples, validate on 15120 samples\n",
      "Epoch 1/50\n",
      "22680/22680 [==============================] - 15s 652us/step - loss: 2.1478 - accuracy: 0.3758 - val_loss: 1.8073 - val_accuracy: 0.7001\n",
      "Epoch 2/50\n",
      "22680/22680 [==============================] - 14s 635us/step - loss: 1.1882 - accuracy: 0.7339 - val_loss: 0.6183 - val_accuracy: 0.8449\n",
      "Epoch 3/50\n",
      "22680/22680 [==============================] - 14s 631us/step - loss: 0.5790 - accuracy: 0.8302 - val_loss: 0.4327 - val_accuracy: 0.8749\n",
      "Epoch 4/50\n",
      "22680/22680 [==============================] - 14s 632us/step - loss: 0.4686 - accuracy: 0.8572 - val_loss: 0.3658 - val_accuracy: 0.8956\n",
      "Epoch 5/50\n",
      "22680/22680 [==============================] - 14s 633us/step - loss: 0.4181 - accuracy: 0.8727 - val_loss: 0.3353 - val_accuracy: 0.9021\n",
      "Epoch 6/50\n",
      "22680/22680 [==============================] - 14s 636us/step - loss: 0.3852 - accuracy: 0.8800 - val_loss: 0.3197 - val_accuracy: 0.9042\n",
      "Epoch 7/50\n",
      "22680/22680 [==============================] - 14s 637us/step - loss: 0.3670 - accuracy: 0.8884 - val_loss: 0.2993 - val_accuracy: 0.9117\n",
      "Epoch 8/50\n",
      "22680/22680 [==============================] - 14s 633us/step - loss: 0.3526 - accuracy: 0.8927 - val_loss: 0.2875 - val_accuracy: 0.9149\n",
      "Epoch 9/50\n",
      "22680/22680 [==============================] - 14s 634us/step - loss: 0.3327 - accuracy: 0.8988 - val_loss: 0.2798 - val_accuracy: 0.9163\n",
      "Epoch 10/50\n",
      "22680/22680 [==============================] - 14s 635us/step - loss: 0.3198 - accuracy: 0.9028 - val_loss: 0.2656 - val_accuracy: 0.9216\n",
      "Epoch 11/50\n",
      "22680/22680 [==============================] - 14s 637us/step - loss: 0.3056 - accuracy: 0.9044 - val_loss: 0.2601 - val_accuracy: 0.9222\n",
      "Epoch 12/50\n",
      "22680/22680 [==============================] - 14s 636us/step - loss: 0.2972 - accuracy: 0.9099 - val_loss: 0.2532 - val_accuracy: 0.9251\n",
      "Epoch 13/50\n",
      "22680/22680 [==============================] - 15s 641us/step - loss: 0.2870 - accuracy: 0.9145 - val_loss: 0.2409 - val_accuracy: 0.9285\n",
      "Epoch 14/50\n",
      "22680/22680 [==============================] - 15s 643us/step - loss: 0.2774 - accuracy: 0.9156 - val_loss: 0.2304 - val_accuracy: 0.9333\n",
      "Epoch 15/50\n",
      "22680/22680 [==============================] - 15s 643us/step - loss: 0.2694 - accuracy: 0.9183 - val_loss: 0.2306 - val_accuracy: 0.9327\n",
      "Epoch 16/50\n",
      "22680/22680 [==============================] - 15s 641us/step - loss: 0.2611 - accuracy: 0.9215 - val_loss: 0.2185 - val_accuracy: 0.9368\n",
      "Epoch 17/50\n",
      "22680/22680 [==============================] - 15s 642us/step - loss: 0.2516 - accuracy: 0.9240 - val_loss: 0.2117 - val_accuracy: 0.9384\n",
      "Epoch 18/50\n",
      "22680/22680 [==============================] - 15s 645us/step - loss: 0.2467 - accuracy: 0.9250 - val_loss: 0.2126 - val_accuracy: 0.9372\n",
      "Epoch 19/50\n",
      "22680/22680 [==============================] - 15s 644us/step - loss: 0.2335 - accuracy: 0.9279 - val_loss: 0.2161 - val_accuracy: 0.9353\n"
     ]
    },
    {
     "data": {
      "text/plain": [
       "<keras.callbacks.callbacks.History at 0x7f90097add90>"
      ]
     },
     "execution_count": 31,
     "metadata": {},
     "output_type": "execute_result"
    }
   ],
   "source": [
    "model2.fit(x_train, y_train, batch_size = 32, epochs=50, validation_split=0.4, callbacks=[early_stopping_monitor])"
   ]
  },
  {
   "cell_type": "code",
   "execution_count": 32,
   "metadata": {
    "scrolled": false
   },
   "outputs": [
    {
     "name": "stdout",
     "output_type": "stream",
     "text": [
      "Train on 22680 samples, validate on 15120 samples\n",
      "Epoch 1/50\n",
      "22680/22680 [==============================] - 12s 530us/step - loss: 2.2899 - accuracy: 0.1257 - val_loss: 2.2724 - val_accuracy: 0.2415\n",
      "Epoch 2/50\n",
      "22680/22680 [==============================] - 11s 498us/step - loss: 2.2510 - accuracy: 0.2008 - val_loss: 2.2144 - val_accuracy: 0.4601\n",
      "Epoch 3/50\n",
      "22680/22680 [==============================] - 11s 502us/step - loss: 2.1103 - accuracy: 0.3650 - val_loss: 1.8895 - val_accuracy: 0.6401\n",
      "Epoch 4/50\n",
      "22680/22680 [==============================] - 11s 492us/step - loss: 1.4076 - accuracy: 0.5772 - val_loss: 0.8528 - val_accuracy: 0.7540\n",
      "Epoch 5/50\n",
      "22680/22680 [==============================] - 11s 492us/step - loss: 0.9343 - accuracy: 0.6881 - val_loss: 0.6288 - val_accuracy: 0.8134\n",
      "Epoch 6/50\n",
      "22680/22680 [==============================] - 11s 493us/step - loss: 0.7776 - accuracy: 0.7407 - val_loss: 0.5466 - val_accuracy: 0.8378\n",
      "Epoch 7/50\n",
      "22680/22680 [==============================] - 11s 504us/step - loss: 0.6895 - accuracy: 0.7747 - val_loss: 0.4868 - val_accuracy: 0.8566\n",
      "Epoch 8/50\n",
      "22680/22680 [==============================] - 11s 499us/step - loss: 0.6301 - accuracy: 0.7961 - val_loss: 0.4511 - val_accuracy: 0.8677\n",
      "Epoch 9/50\n",
      "22680/22680 [==============================] - 11s 499us/step - loss: 0.5829 - accuracy: 0.8082 - val_loss: 0.4059 - val_accuracy: 0.8826\n",
      "Epoch 10/50\n",
      "22680/22680 [==============================] - 11s 499us/step - loss: 0.5411 - accuracy: 0.8250 - val_loss: 0.3778 - val_accuracy: 0.8882\n",
      "Epoch 11/50\n",
      "22680/22680 [==============================] - 11s 500us/step - loss: 0.5088 - accuracy: 0.8369 - val_loss: 0.3649 - val_accuracy: 0.8933\n",
      "Epoch 12/50\n",
      "22680/22680 [==============================] - 11s 500us/step - loss: 0.4792 - accuracy: 0.8488 - val_loss: 0.3395 - val_accuracy: 0.9011\n",
      "Epoch 13/50\n",
      "22680/22680 [==============================] - 11s 500us/step - loss: 0.4476 - accuracy: 0.8571 - val_loss: 0.3269 - val_accuracy: 0.9023\n",
      "Epoch 14/50\n",
      "22680/22680 [==============================] - 11s 501us/step - loss: 0.4296 - accuracy: 0.8641 - val_loss: 0.3057 - val_accuracy: 0.9091\n",
      "Epoch 15/50\n",
      "22680/22680 [==============================] - 11s 501us/step - loss: 0.4009 - accuracy: 0.8730 - val_loss: 0.2910 - val_accuracy: 0.9130\n",
      "Epoch 16/50\n",
      "22680/22680 [==============================] - 11s 502us/step - loss: 0.3753 - accuracy: 0.8807 - val_loss: 0.2809 - val_accuracy: 0.9153\n",
      "Epoch 17/50\n",
      "22680/22680 [==============================] - 11s 501us/step - loss: 0.3566 - accuracy: 0.8858 - val_loss: 0.2581 - val_accuracy: 0.9228\n",
      "Epoch 18/50\n",
      "22680/22680 [==============================] - 11s 502us/step - loss: 0.3366 - accuracy: 0.8940 - val_loss: 0.2475 - val_accuracy: 0.9257\n",
      "Epoch 19/50\n",
      "22680/22680 [==============================] - 11s 504us/step - loss: 0.3213 - accuracy: 0.8997 - val_loss: 0.2313 - val_accuracy: 0.9315\n",
      "Epoch 20/50\n",
      "22680/22680 [==============================] - 11s 504us/step - loss: 0.3040 - accuracy: 0.9031 - val_loss: 0.2269 - val_accuracy: 0.9312\n",
      "Epoch 21/50\n",
      "22680/22680 [==============================] - 11s 504us/step - loss: 0.2876 - accuracy: 0.9096 - val_loss: 0.2130 - val_accuracy: 0.9352\n",
      "Epoch 22/50\n",
      "22680/22680 [==============================] - 11s 504us/step - loss: 0.2821 - accuracy: 0.9115 - val_loss: 0.2044 - val_accuracy: 0.9392\n",
      "Epoch 23/50\n",
      "22680/22680 [==============================] - 11s 505us/step - loss: 0.2669 - accuracy: 0.9138 - val_loss: 0.1975 - val_accuracy: 0.9419\n",
      "Epoch 24/50\n",
      "22680/22680 [==============================] - 11s 505us/step - loss: 0.2564 - accuracy: 0.9201 - val_loss: 0.1888 - val_accuracy: 0.9451\n",
      "Epoch 25/50\n",
      "22680/22680 [==============================] - 11s 505us/step - loss: 0.2494 - accuracy: 0.9216 - val_loss: 0.1831 - val_accuracy: 0.9464\n",
      "Epoch 26/50\n",
      "22680/22680 [==============================] - 11s 506us/step - loss: 0.2375 - accuracy: 0.9264 - val_loss: 0.1763 - val_accuracy: 0.9488\n",
      "Epoch 27/50\n",
      "22680/22680 [==============================] - 11s 506us/step - loss: 0.2328 - accuracy: 0.9260 - val_loss: 0.1713 - val_accuracy: 0.9495\n",
      "Epoch 28/50\n",
      "22680/22680 [==============================] - 11s 505us/step - loss: 0.2266 - accuracy: 0.9280 - val_loss: 0.1680 - val_accuracy: 0.9497\n",
      "Epoch 29/50\n",
      "22680/22680 [==============================] - 11s 506us/step - loss: 0.2178 - accuracy: 0.9310 - val_loss: 0.1620 - val_accuracy: 0.9505\n",
      "Epoch 30/50\n",
      "22680/22680 [==============================] - 12s 508us/step - loss: 0.2123 - accuracy: 0.9332 - val_loss: 0.1579 - val_accuracy: 0.9528\n",
      "Epoch 31/50\n",
      "22680/22680 [==============================] - 12s 508us/step - loss: 0.2072 - accuracy: 0.9329 - val_loss: 0.1530 - val_accuracy: 0.9542\n",
      "Epoch 32/50\n",
      "22680/22680 [==============================] - 11s 507us/step - loss: 0.2046 - accuracy: 0.9344 - val_loss: 0.1516 - val_accuracy: 0.9553\n",
      "Epoch 33/50\n",
      "22680/22680 [==============================] - 11s 507us/step - loss: 0.1988 - accuracy: 0.9371 - val_loss: 0.1528 - val_accuracy: 0.9530\n",
      "Epoch 34/50\n",
      "22680/22680 [==============================] - 11s 507us/step - loss: 0.1899 - accuracy: 0.9400 - val_loss: 0.1451 - val_accuracy: 0.9571\n",
      "Epoch 35/50\n",
      "22680/22680 [==============================] - 12s 507us/step - loss: 0.1930 - accuracy: 0.9392 - val_loss: 0.1431 - val_accuracy: 0.9577\n",
      "Epoch 36/50\n",
      "22680/22680 [==============================] - 12s 508us/step - loss: 0.1852 - accuracy: 0.9410 - val_loss: 0.1393 - val_accuracy: 0.9577\n",
      "Epoch 37/50\n",
      "22680/22680 [==============================] - 12s 508us/step - loss: 0.1816 - accuracy: 0.9433 - val_loss: 0.1385 - val_accuracy: 0.9579\n",
      "Epoch 38/50\n",
      "22680/22680 [==============================] - 11s 503us/step - loss: 0.1785 - accuracy: 0.9445 - val_loss: 0.1342 - val_accuracy: 0.9604\n",
      "Epoch 39/50\n",
      "22680/22680 [==============================] - 11s 502us/step - loss: 0.1750 - accuracy: 0.9452 - val_loss: 0.1329 - val_accuracy: 0.9606\n",
      "Epoch 40/50\n",
      "22680/22680 [==============================] - 11s 501us/step - loss: 0.1711 - accuracy: 0.9449 - val_loss: 0.1300 - val_accuracy: 0.9613\n",
      "Epoch 41/50\n",
      "22680/22680 [==============================] - 11s 502us/step - loss: 0.1692 - accuracy: 0.9466 - val_loss: 0.1311 - val_accuracy: 0.9601\n",
      "Epoch 42/50\n",
      "22680/22680 [==============================] - 12s 513us/step - loss: 0.1668 - accuracy: 0.9474 - val_loss: 0.1270 - val_accuracy: 0.9617\n",
      "Epoch 43/50\n",
      "22680/22680 [==============================] - 12s 509us/step - loss: 0.1659 - accuracy: 0.9470 - val_loss: 0.1251 - val_accuracy: 0.9618\n",
      "Epoch 44/50\n",
      "22680/22680 [==============================] - 12s 510us/step - loss: 0.1624 - accuracy: 0.9476 - val_loss: 0.1228 - val_accuracy: 0.9629\n",
      "Epoch 45/50\n",
      "22680/22680 [==============================] - 12s 511us/step - loss: 0.1561 - accuracy: 0.9510 - val_loss: 0.1198 - val_accuracy: 0.9645\n",
      "Epoch 46/50\n",
      "22680/22680 [==============================] - 12s 510us/step - loss: 0.1595 - accuracy: 0.9487 - val_loss: 0.1198 - val_accuracy: 0.9632\n",
      "Epoch 47/50\n",
      "22680/22680 [==============================] - 12s 511us/step - loss: 0.1537 - accuracy: 0.9498 - val_loss: 0.1188 - val_accuracy: 0.9638\n",
      "Epoch 48/50\n",
      "22680/22680 [==============================] - 12s 511us/step - loss: 0.1533 - accuracy: 0.9495 - val_loss: 0.1160 - val_accuracy: 0.9645\n",
      "Epoch 49/50\n",
      "22680/22680 [==============================] - 12s 511us/step - loss: 0.1508 - accuracy: 0.9521 - val_loss: 0.1164 - val_accuracy: 0.9638\n",
      "Epoch 50/50\n",
      "22680/22680 [==============================] - 12s 511us/step - loss: 0.1515 - accuracy: 0.9519 - val_loss: 0.1150 - val_accuracy: 0.9645\n"
     ]
    },
    {
     "data": {
      "text/plain": [
       "<keras.callbacks.callbacks.History at 0x7f900b675450>"
      ]
     },
     "execution_count": 32,
     "metadata": {},
     "output_type": "execute_result"
    }
   ],
   "source": [
    "model3.fit(x_train, y_train, batch_size = 32, epochs=50, validation_split=0.4, callbacks=[early_stopping_monitor])"
   ]
  },
  {
   "cell_type": "markdown",
   "metadata": {},
   "source": [
    "#### It's interesting to see that the second model only took 34 epochs compared to the first and third model. This model has more layers instead of more neurons in a single layers. "
   ]
  },
  {
   "cell_type": "markdown",
   "metadata": {},
   "source": [
    "#### Now, for each model we are going to see the accuracy"
   ]
  },
  {
   "cell_type": "code",
   "execution_count": 33,
   "metadata": {},
   "outputs": [
    {
     "name": "stdout",
     "output_type": "stream",
     "text": [
      "Test loss: 0.0726565051362628\n",
      "Test accuracy 0.9783333539962769\n"
     ]
    }
   ],
   "source": [
    "score = model.evaluate(X_val, Y_val, verbose = 0)\n",
    "print('Test loss:', score[0])\n",
    "print('Test accuracy', score[1])"
   ]
  },
  {
   "cell_type": "code",
   "execution_count": 34,
   "metadata": {},
   "outputs": [
    {
     "name": "stdout",
     "output_type": "stream",
     "text": [
      "Test loss: 0.22555871427059174\n",
      "Test accuracy 0.9316666722297668\n"
     ]
    }
   ],
   "source": [
    "score = model2.evaluate(X_val, Y_val, verbose = 0)\n",
    "print('Test loss:', score[0])\n",
    "print('Test accuracy', score[1])"
   ]
  },
  {
   "cell_type": "code",
   "execution_count": 35,
   "metadata": {},
   "outputs": [
    {
     "name": "stdout",
     "output_type": "stream",
     "text": [
      "Test loss: 0.11865282896019164\n",
      "Test accuracy 0.9638095498085022\n"
     ]
    }
   ],
   "source": [
    "score = model3.evaluate(X_val, Y_val, verbose = 0)\n",
    "print('Test loss:', score[0])\n",
    "print('Test accuracy', score[1])"
   ]
  },
  {
   "cell_type": "code",
   "execution_count": null,
   "metadata": {},
   "outputs": [],
   "source": []
  }
 ],
 "metadata": {
  "kernelspec": {
   "display_name": "Python 3",
   "language": "python",
   "name": "python3"
  },
  "language_info": {
   "codemirror_mode": {
    "name": "ipython",
    "version": 3
   },
   "file_extension": ".py",
   "mimetype": "text/x-python",
   "name": "python",
   "nbconvert_exporter": "python",
   "pygments_lexer": "ipython3",
   "version": "3.7.6"
  }
 },
 "nbformat": 4,
 "nbformat_minor": 4
}
